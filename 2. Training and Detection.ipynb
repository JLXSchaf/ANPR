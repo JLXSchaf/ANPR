{
 "cells": [
  {
   "cell_type": "markdown",
   "metadata": {
    "id": "QUANWN3rpfC9"
   },
   "source": [
    "# 0. Setup Paths"
   ]
  },
  {
   "cell_type": "code",
   "execution_count": 1,
   "metadata": {
    "id": "146BB11JpfDA"
   },
   "outputs": [],
   "source": [
    "import os"
   ]
  },
  {
   "cell_type": "code",
   "execution_count": 2,
   "metadata": {
    "id": "42hJEdo_pfDB"
   },
   "outputs": [],
   "source": [
    "CUSTOM_MODEL_NAME = 'my_ssd_mobnet' \n",
    "PRETRAINED_MODEL_NAME = 'ssd_mobilenet_v2_fpnlite_320x320_coco17_tpu-8'\n",
    "PRETRAINED_MODEL_URL = 'http://download.tensorflow.org/models/object_detection/tf2/20200711/ssd_mobilenet_v2_fpnlite_320x320_coco17_tpu-8.tar.gz'\n",
    "TF_RECORD_SCRIPT_NAME = 'generate_tfrecord.py'\n",
    "LABEL_MAP_NAME = 'label_map.pbtxt'"
   ]
  },
  {
   "cell_type": "code",
   "execution_count": 3,
   "metadata": {
    "id": "hbPhYVy_pfDB"
   },
   "outputs": [],
   "source": [
    "paths = {\n",
    "    'WORKSPACE_PATH': os.path.join('Tensorflow', 'workspace'),\n",
    "    'SCRIPTS_PATH': os.path.join('Tensorflow','scripts'),\n",
    "    'APIMODEL_PATH': os.path.join('Tensorflow','models'),\n",
    "    'ANNOTATION_PATH': os.path.join('Tensorflow', 'workspace','annotations'),\n",
    "    'IMAGE_PATH': os.path.join('Tensorflow', 'workspace','images'),\n",
    "    'MODEL_PATH': os.path.join('Tensorflow', 'workspace','models'),\n",
    "    'PRETRAINED_MODEL_PATH': os.path.join('Tensorflow', 'workspace','pre-trained-models'),\n",
    "    'CHECKPOINT_PATH': os.path.join('Tensorflow', 'workspace','models',CUSTOM_MODEL_NAME), \n",
    "    'OUTPUT_PATH': os.path.join('Tensorflow', 'workspace','models',CUSTOM_MODEL_NAME, 'export'), \n",
    "    'TFJS_PATH':os.path.join('Tensorflow', 'workspace','models',CUSTOM_MODEL_NAME, 'tfjsexport'), \n",
    "    'TFLITE_PATH':os.path.join('Tensorflow', 'workspace','models',CUSTOM_MODEL_NAME, 'tfliteexport'), \n",
    "    'PROTOC_PATH':os.path.join('Tensorflow','protoc')\n",
    " }"
   ]
  },
  {
   "cell_type": "code",
   "execution_count": 4,
   "metadata": {
    "id": "LwhWZMI0pfDC"
   },
   "outputs": [],
   "source": [
    "files = {\n",
    "    'PIPELINE_CONFIG':os.path.join('Tensorflow', 'workspace','models', CUSTOM_MODEL_NAME, 'pipeline.config'),\n",
    "    'TF_RECORD_SCRIPT': os.path.join(paths['SCRIPTS_PATH'], TF_RECORD_SCRIPT_NAME), \n",
    "    'LABELMAP': os.path.join(paths['ANNOTATION_PATH'], LABEL_MAP_NAME)\n",
    "}"
   ]
  },
  {
   "cell_type": "code",
   "execution_count": 5,
   "metadata": {
    "id": "HR-TfDGrpfDC"
   },
   "outputs": [],
   "source": [
    "for path in paths.values():\n",
    "    if not os.path.exists(path):\n",
    "        if os.name == 'posix':\n",
    "            !mkdir -p {path}\n",
    "        if os.name == 'nt':\n",
    "            !mkdir {path}"
   ]
  },
  {
   "cell_type": "markdown",
   "metadata": {
    "id": "OLU-rs_ipfDE"
   },
   "source": [
    "# 1. Download TF Models Pretrained Models from Tensorflow Model Zoo and Install TFOD"
   ]
  },
  {
   "cell_type": "code",
   "execution_count": 6,
   "metadata": {},
   "outputs": [],
   "source": [
    "# https://www.tensorflow.org/install/source_windows"
   ]
  },
  {
   "cell_type": "code",
   "execution_count": 7,
   "metadata": {
    "id": "K-Cmz2edpfDE",
    "scrolled": true
   },
   "outputs": [
    {
     "name": "stdout",
     "output_type": "stream",
     "text": [
      "Requirement already satisfied: wget in c:\\users\\praktikant\\appdata\\local\\programs\\python\\python38\\lib\\site-packages (3.2)\n"
     ]
    }
   ],
   "source": [
    "if os.name=='nt':\n",
    "    !pip install wget\n",
    "    import wget"
   ]
  },
  {
   "cell_type": "code",
   "execution_count": null,
   "metadata": {
    "id": "iA1DIq5OpfDE"
   },
   "outputs": [],
   "source": [
    "if not os.path.exists(os.path.join(paths['APIMODEL_PATH'], 'research', 'object_detection')):\n",
    "    !git clone https://github.com/tensorflow/models {paths['APIMODEL_PATH']}"
   ]
  },
  {
   "cell_type": "code",
   "execution_count": null,
   "metadata": {},
   "outputs": [],
   "source": [
    "!pip install opt_einsum"
   ]
  },
  {
   "cell_type": "code",
   "execution_count": null,
   "metadata": {
    "id": "rJjMHbnDs3Tv"
   },
   "outputs": [],
   "source": [
    "# Install Tensorflow Object Detection \n",
    "if os.name=='posix':  \n",
    "    !apt-get install protobuf-compiler\n",
    "    !cd Tensorflow/models/research && protoc object_detection/protos/*.proto --python_out=. && cp object_detection/packages/tf2/setup.py . && python -m pip install . \n",
    "\n",
    "if os.name=='nt':\n",
    "    url=\"https://github.com/protocolbuffers/protobuf/releases/download/v3.15.6/protoc-3.15.6-win64.zip\"\n",
    "    wget.download(url)\n",
    "    !move protoc-3.15.6-win64.zip {paths['PROTOC_PATH']}\n",
    "    !cd {paths['PROTOC_PATH']} && tar -xf protoc-3.15.6-win64.zip\n",
    "    os.environ['PATH'] += os.pathsep + os.path.abspath(os.path.join(paths['PROTOC_PATH'], 'bin'))   \n",
    "    !cd Tensorflow/models/research && protoc object_detection/protos/*.proto --python_out=. && copy object_detection\\\\packages\\\\tf2\\\\setup.py setup.py && python setup.py build && python setup.py install\n",
    "    !cd Tensorflow/models/research/slim && python -m pip install -e . "
   ]
  },
  {
   "cell_type": "code",
   "execution_count": null,
   "metadata": {},
   "outputs": [],
   "source": [
    "!pip install keras_preprocessing"
   ]
  },
  {
   "cell_type": "code",
   "execution_count": 52,
   "metadata": {
    "scrolled": true
   },
   "outputs": [
    {
     "name": "stderr",
     "output_type": "stream",
     "text": [
      "2021-09-07 11:23:43.730071: W tensorflow/stream_executor/platform/default/dso_loader.cc:60] Could not load dynamic library 'cudart64_110.dll'; dlerror: cudart64_110.dll not found\n",
      "2021-09-07 11:23:43.730506: I tensorflow/stream_executor/cuda/cudart_stub.cc:29] Ignore above cudart dlerror if you do not have a GPU set up on your machine.\n",
      "Running tests under Python 3.8.10: C:\\Users\\praktikant\\AppData\\Local\\Programs\\Python\\Python38\\python.exe\n",
      "[ RUN      ] ModelBuilderTF2Test.test_create_center_net_deepmac\n",
      "2021-09-07 11:23:49.673948: I tensorflow/compiler/jit/xla_cpu_device.cc:41] Not creating XLA devices, tf_xla_enable_xla_devices not set\n",
      "2021-09-07 11:23:49.675040: W tensorflow/stream_executor/platform/default/dso_loader.cc:60] Could not load dynamic library 'nvcuda.dll'; dlerror: nvcuda.dll not found\n",
      "2021-09-07 11:23:49.675394: W tensorflow/stream_executor/cuda/cuda_driver.cc:326] failed call to cuInit: UNKNOWN ERROR (303)\n",
      "2021-09-07 11:23:49.692859: I tensorflow/stream_executor/cuda/cuda_diagnostics.cc:169] retrieving CUDA diagnostic information for host: OXDEKLE01NB1195\n",
      "2021-09-07 11:23:49.693668: I tensorflow/stream_executor/cuda/cuda_diagnostics.cc:176] hostname: OXDEKLE01NB1195\n",
      "2021-09-07 11:23:49.694278: I tensorflow/core/platform/cpu_feature_guard.cc:142] This TensorFlow binary is optimized with oneAPI Deep Neural Network Library (oneDNN) to use the following CPU instructions in performance-critical operations:  AVX2\n",
      "To enable them in other operations, rebuild TensorFlow with the appropriate compiler flags.\n",
      "2021-09-07 11:23:49.695151: I tensorflow/compiler/jit/xla_gpu_device.cc:99] Not creating XLA devices, tf_xla_enable_xla_devices not set\n",
      "C:\\Users\\praktikant\\AppData\\Local\\Programs\\Python\\Python38\\lib\\site-packages\\object_detection-0.1-py3.8.egg\\object_detection\\builders\\model_builder.py:1091: DeprecationWarning: The 'warn' function is deprecated, use 'warning' instead\n",
      "  logging.warn(('Building experimental DeepMAC meta-arch.'\n",
      "W0907 11:23:50.027915  5756 model_builder.py:1091] Building experimental DeepMAC meta-arch. Some features may be omitted.\n",
      "INFO:tensorflow:time(__main__.ModelBuilderTF2Test.test_create_center_net_deepmac): 0.84s\n",
      "I0907 11:23:50.501197  5756 test_util.py:2075] time(__main__.ModelBuilderTF2Test.test_create_center_net_deepmac): 0.84s\n",
      "[       OK ] ModelBuilderTF2Test.test_create_center_net_deepmac\n",
      "[ RUN      ] ModelBuilderTF2Test.test_create_center_net_model0 (customize_head_params=True)\n",
      "INFO:tensorflow:time(__main__.ModelBuilderTF2Test.test_create_center_net_model0 (customize_head_params=True)): 2.07s\n",
      "I0907 11:23:52.568668  5756 test_util.py:2075] time(__main__.ModelBuilderTF2Test.test_create_center_net_model0 (customize_head_params=True)): 2.07s\n",
      "[       OK ] ModelBuilderTF2Test.test_create_center_net_model0 (customize_head_params=True)\n",
      "[ RUN      ] ModelBuilderTF2Test.test_create_center_net_model1 (customize_head_params=False)\n",
      "INFO:tensorflow:time(__main__.ModelBuilderTF2Test.test_create_center_net_model1 (customize_head_params=False)): 0.43s\n",
      "I0907 11:23:53.001042  5756 test_util.py:2075] time(__main__.ModelBuilderTF2Test.test_create_center_net_model1 (customize_head_params=False)): 0.43s\n",
      "[       OK ] ModelBuilderTF2Test.test_create_center_net_model1 (customize_head_params=False)\n",
      "[ RUN      ] ModelBuilderTF2Test.test_create_center_net_model_from_keypoints\n",
      "INFO:tensorflow:time(__main__.ModelBuilderTF2Test.test_create_center_net_model_from_keypoints): 0.39s\n",
      "I0907 11:23:53.386511  5756 test_util.py:2075] time(__main__.ModelBuilderTF2Test.test_create_center_net_model_from_keypoints): 0.39s\n",
      "[       OK ] ModelBuilderTF2Test.test_create_center_net_model_from_keypoints\n",
      "[ RUN      ] ModelBuilderTF2Test.test_create_center_net_model_mobilenet\n",
      "WARNING:tensorflow:`input_shape` is undefined or non-square, or `rows` is not in [96, 128, 160, 192, 224]. Weights for input shape (224, 224) will be loaded as the default.\n",
      "W0907 11:23:53.386511  5756 mobilenet_v2.py:286] `input_shape` is undefined or non-square, or `rows` is not in [96, 128, 160, 192, 224]. Weights for input shape (224, 224) will be loaded as the default.\n",
      "INFO:tensorflow:time(__main__.ModelBuilderTF2Test.test_create_center_net_model_mobilenet): 2.52s\n",
      "I0907 11:23:55.909177  5756 test_util.py:2075] time(__main__.ModelBuilderTF2Test.test_create_center_net_model_mobilenet): 2.52s\n",
      "[       OK ] ModelBuilderTF2Test.test_create_center_net_model_mobilenet\n",
      "[ RUN      ] ModelBuilderTF2Test.test_create_experimental_model\n",
      "INFO:tensorflow:time(__main__.ModelBuilderTF2Test.test_create_experimental_model): 0.02s\n",
      "I0907 11:23:55.925083  5756 test_util.py:2075] time(__main__.ModelBuilderTF2Test.test_create_experimental_model): 0.02s\n",
      "[       OK ] ModelBuilderTF2Test.test_create_experimental_model\n",
      "[ RUN      ] ModelBuilderTF2Test.test_create_faster_rcnn_from_config_with_crop_feature0 (True)\n",
      "INFO:tensorflow:time(__main__.ModelBuilderTF2Test.test_create_faster_rcnn_from_config_with_crop_feature0 (True)): 0.02s\n",
      "I0907 11:23:55.944870  5756 test_util.py:2075] time(__main__.ModelBuilderTF2Test.test_create_faster_rcnn_from_config_with_crop_feature0 (True)): 0.02s\n",
      "[       OK ] ModelBuilderTF2Test.test_create_faster_rcnn_from_config_with_crop_feature0 (True)\n",
      "[ RUN      ] ModelBuilderTF2Test.test_create_faster_rcnn_from_config_with_crop_feature1 (False)\n",
      "INFO:tensorflow:time(__main__.ModelBuilderTF2Test.test_create_faster_rcnn_from_config_with_crop_feature1 (False)): 0.03s\n",
      "I0907 11:23:55.978136  5756 test_util.py:2075] time(__main__.ModelBuilderTF2Test.test_create_faster_rcnn_from_config_with_crop_feature1 (False)): 0.03s\n",
      "[       OK ] ModelBuilderTF2Test.test_create_faster_rcnn_from_config_with_crop_feature1 (False)\n",
      "[ RUN      ] ModelBuilderTF2Test.test_create_faster_rcnn_model_from_config_with_example_miner\n",
      "INFO:tensorflow:time(__main__.ModelBuilderTF2Test.test_create_faster_rcnn_model_from_config_with_example_miner): 0.02s\n",
      "I0907 11:23:55.993773  5756 test_util.py:2075] time(__main__.ModelBuilderTF2Test.test_create_faster_rcnn_model_from_config_with_example_miner): 0.02s\n",
      "[       OK ] ModelBuilderTF2Test.test_create_faster_rcnn_model_from_config_with_example_miner\n",
      "[ RUN      ] ModelBuilderTF2Test.test_create_faster_rcnn_models_from_config_faster_rcnn_with_matmul\n",
      "INFO:tensorflow:time(__main__.ModelBuilderTF2Test.test_create_faster_rcnn_models_from_config_faster_rcnn_with_matmul): 0.17s\n",
      "I0907 11:23:56.163088  5756 test_util.py:2075] time(__main__.ModelBuilderTF2Test.test_create_faster_rcnn_models_from_config_faster_rcnn_with_matmul): 0.17s\n",
      "[       OK ] ModelBuilderTF2Test.test_create_faster_rcnn_models_from_config_faster_rcnn_with_matmul\n",
      "[ RUN      ] ModelBuilderTF2Test.test_create_faster_rcnn_models_from_config_faster_rcnn_without_matmul\n",
      "INFO:tensorflow:time(__main__.ModelBuilderTF2Test.test_create_faster_rcnn_models_from_config_faster_rcnn_without_matmul): 0.15s\n",
      "I0907 11:23:56.310274  5756 test_util.py:2075] time(__main__.ModelBuilderTF2Test.test_create_faster_rcnn_models_from_config_faster_rcnn_without_matmul): 0.15s\n",
      "[       OK ] ModelBuilderTF2Test.test_create_faster_rcnn_models_from_config_faster_rcnn_without_matmul\n",
      "[ RUN      ] ModelBuilderTF2Test.test_create_faster_rcnn_models_from_config_mask_rcnn_with_matmul\n",
      "INFO:tensorflow:time(__main__.ModelBuilderTF2Test.test_create_faster_rcnn_models_from_config_mask_rcnn_with_matmul): 0.18s\n",
      "I0907 11:23:56.495216  5756 test_util.py:2075] time(__main__.ModelBuilderTF2Test.test_create_faster_rcnn_models_from_config_mask_rcnn_with_matmul): 0.18s\n",
      "[       OK ] ModelBuilderTF2Test.test_create_faster_rcnn_models_from_config_mask_rcnn_with_matmul\n",
      "[ RUN      ] ModelBuilderTF2Test.test_create_faster_rcnn_models_from_config_mask_rcnn_without_matmul\n",
      "INFO:tensorflow:time(__main__.ModelBuilderTF2Test.test_create_faster_rcnn_models_from_config_mask_rcnn_without_matmul): 0.17s\n",
      "I0907 11:23:56.662860  5756 test_util.py:2075] time(__main__.ModelBuilderTF2Test.test_create_faster_rcnn_models_from_config_mask_rcnn_without_matmul): 0.17s\n",
      "[       OK ] ModelBuilderTF2Test.test_create_faster_rcnn_models_from_config_mask_rcnn_without_matmul\n",
      "[ RUN      ] ModelBuilderTF2Test.test_create_rfcn_model_from_config\n",
      "INFO:tensorflow:time(__main__.ModelBuilderTF2Test.test_create_rfcn_model_from_config): 0.15s\n",
      "I0907 11:23:56.811543  5756 test_util.py:2075] time(__main__.ModelBuilderTF2Test.test_create_rfcn_model_from_config): 0.15s\n",
      "[       OK ] ModelBuilderTF2Test.test_create_rfcn_model_from_config\n",
      "[ RUN      ] ModelBuilderTF2Test.test_create_ssd_fpn_model_from_config\n",
      "INFO:tensorflow:time(__main__.ModelBuilderTF2Test.test_create_ssd_fpn_model_from_config): 0.18s\n",
      "I0907 11:23:56.996509  5756 test_util.py:2075] time(__main__.ModelBuilderTF2Test.test_create_ssd_fpn_model_from_config): 0.18s\n",
      "[       OK ] ModelBuilderTF2Test.test_create_ssd_fpn_model_from_config\n",
      "[ RUN      ] ModelBuilderTF2Test.test_create_ssd_models_from_config\n",
      "I0907 11:23:57.359802  5756 ssd_efficientnet_bifpn_feature_extractor.py:142] EfficientDet EfficientNet backbone version: efficientnet-b0\n",
      "I0907 11:23:57.359802  5756 ssd_efficientnet_bifpn_feature_extractor.py:144] EfficientDet BiFPN num filters: 64\n",
      "I0907 11:23:57.359802  5756 ssd_efficientnet_bifpn_feature_extractor.py:145] EfficientDet BiFPN num iterations: 3\n",
      "I0907 11:23:57.366323  5756 efficientnet_model.py:147] round_filter input=32 output=32\n",
      "I0907 11:23:57.381972  5756 efficientnet_model.py:147] round_filter input=32 output=32\n",
      "I0907 11:23:57.381972  5756 efficientnet_model.py:147] round_filter input=16 output=16\n",
      "I0907 11:23:57.444470  5756 efficientnet_model.py:147] round_filter input=16 output=16\n",
      "I0907 11:23:57.444470  5756 efficientnet_model.py:147] round_filter input=24 output=24\n",
      "I0907 11:23:57.613759  5756 efficientnet_model.py:147] round_filter input=24 output=24\n",
      "I0907 11:23:57.613759  5756 efficientnet_model.py:147] round_filter input=40 output=40\n",
      "I0907 11:23:57.798791  5756 efficientnet_model.py:147] round_filter input=40 output=40\n",
      "I0907 11:23:57.798791  5756 efficientnet_model.py:147] round_filter input=80 output=80\n",
      "I0907 11:23:58.099451  5756 efficientnet_model.py:147] round_filter input=80 output=80\n",
      "I0907 11:23:58.099451  5756 efficientnet_model.py:147] round_filter input=112 output=112\n",
      "I0907 11:23:58.384659  5756 efficientnet_model.py:147] round_filter input=112 output=112\n",
      "I0907 11:23:58.384659  5756 efficientnet_model.py:147] round_filter input=192 output=192\n",
      "I0907 11:23:58.785758  5756 efficientnet_model.py:147] round_filter input=192 output=192\n",
      "I0907 11:23:58.785758  5756 efficientnet_model.py:147] round_filter input=320 output=320\n",
      "I0907 11:23:58.901662  5756 efficientnet_model.py:147] round_filter input=1280 output=1280\n",
      "I0907 11:23:58.964158  5756 efficientnet_model.py:458] Building model efficientnet with params ModelConfig(width_coefficient=1.0, depth_coefficient=1.0, resolution=224, dropout_rate=0.2, blocks=(BlockConfig(input_filters=32, output_filters=16, kernel_size=3, num_repeat=1, expand_ratio=1, strides=(1, 1), se_ratio=0.25, id_skip=True, fused_conv=False, conv_type='depthwise'), BlockConfig(input_filters=16, output_filters=24, kernel_size=3, num_repeat=2, expand_ratio=6, strides=(2, 2), se_ratio=0.25, id_skip=True, fused_conv=False, conv_type='depthwise'), BlockConfig(input_filters=24, output_filters=40, kernel_size=5, num_repeat=2, expand_ratio=6, strides=(2, 2), se_ratio=0.25, id_skip=True, fused_conv=False, conv_type='depthwise'), BlockConfig(input_filters=40, output_filters=80, kernel_size=3, num_repeat=3, expand_ratio=6, strides=(2, 2), se_ratio=0.25, id_skip=True, fused_conv=False, conv_type='depthwise'), BlockConfig(input_filters=80, output_filters=112, kernel_size=5, num_repeat=3, expand_ratio=6, strides=(1, 1), se_ratio=0.25, id_skip=True, fused_conv=False, conv_type='depthwise'), BlockConfig(input_filters=112, output_filters=192, kernel_size=5, num_repeat=4, expand_ratio=6, strides=(2, 2), se_ratio=0.25, id_skip=True, fused_conv=False, conv_type='depthwise'), BlockConfig(input_filters=192, output_filters=320, kernel_size=3, num_repeat=1, expand_ratio=6, strides=(1, 1), se_ratio=0.25, id_skip=True, fused_conv=False, conv_type='depthwise')), stem_base_filters=32, top_base_filters=1280, activation='simple_swish', batch_norm='default', bn_momentum=0.99, bn_epsilon=0.001, weight_decay=5e-06, drop_connect_rate=0.2, depth_divisor=8, min_depth=None, use_se=True, input_channels=3, num_classes=1000, model_name='efficientnet', rescale_input=False, data_format='channels_last', dtype='float32')\n",
      "I0907 11:23:59.048798  5756 ssd_efficientnet_bifpn_feature_extractor.py:142] EfficientDet EfficientNet backbone version: efficientnet-b1\n",
      "I0907 11:23:59.048798  5756 ssd_efficientnet_bifpn_feature_extractor.py:144] EfficientDet BiFPN num filters: 88\n",
      "I0907 11:23:59.048798  5756 ssd_efficientnet_bifpn_feature_extractor.py:145] EfficientDet BiFPN num iterations: 4\n",
      "I0907 11:23:59.048798  5756 efficientnet_model.py:147] round_filter input=32 output=32\n",
      "I0907 11:23:59.070941  5756 efficientnet_model.py:147] round_filter input=32 output=32\n",
      "I0907 11:23:59.070941  5756 efficientnet_model.py:147] round_filter input=16 output=16\n",
      "I0907 11:23:59.218101  5756 efficientnet_model.py:147] round_filter input=16 output=16\n",
      "I0907 11:23:59.218101  5756 efficientnet_model.py:147] round_filter input=24 output=24\n",
      "I0907 11:23:59.518906  5756 efficientnet_model.py:147] round_filter input=24 output=24\n",
      "I0907 11:23:59.518906  5756 efficientnet_model.py:147] round_filter input=40 output=40\n",
      "I0907 11:23:59.872835  5756 efficientnet_model.py:147] round_filter input=40 output=40\n",
      "I0907 11:23:59.872835  5756 efficientnet_model.py:147] round_filter input=80 output=80\n",
      "I0907 11:24:00.320384  5756 efficientnet_model.py:147] round_filter input=80 output=80\n",
      "I0907 11:24:00.320384  5756 efficientnet_model.py:147] round_filter input=112 output=112\n",
      "I0907 11:24:00.806267  5756 efficientnet_model.py:147] round_filter input=112 output=112\n",
      "I0907 11:24:00.806267  5756 efficientnet_model.py:147] round_filter input=192 output=192\n",
      "I0907 11:24:01.338828  5756 efficientnet_model.py:147] round_filter input=192 output=192\n",
      "I0907 11:24:01.338828  5756 efficientnet_model.py:147] round_filter input=320 output=320\n",
      "I0907 11:24:01.577097  5756 efficientnet_model.py:147] round_filter input=1280 output=1280\n",
      "I0907 11:24:01.639603  5756 efficientnet_model.py:458] Building model efficientnet with params ModelConfig(width_coefficient=1.0, depth_coefficient=1.1, resolution=240, dropout_rate=0.2, blocks=(BlockConfig(input_filters=32, output_filters=16, kernel_size=3, num_repeat=1, expand_ratio=1, strides=(1, 1), se_ratio=0.25, id_skip=True, fused_conv=False, conv_type='depthwise'), BlockConfig(input_filters=16, output_filters=24, kernel_size=3, num_repeat=2, expand_ratio=6, strides=(2, 2), se_ratio=0.25, id_skip=True, fused_conv=False, conv_type='depthwise'), BlockConfig(input_filters=24, output_filters=40, kernel_size=5, num_repeat=2, expand_ratio=6, strides=(2, 2), se_ratio=0.25, id_skip=True, fused_conv=False, conv_type='depthwise'), BlockConfig(input_filters=40, output_filters=80, kernel_size=3, num_repeat=3, expand_ratio=6, strides=(2, 2), se_ratio=0.25, id_skip=True, fused_conv=False, conv_type='depthwise'), BlockConfig(input_filters=80, output_filters=112, kernel_size=5, num_repeat=3, expand_ratio=6, strides=(1, 1), se_ratio=0.25, id_skip=True, fused_conv=False, conv_type='depthwise'), BlockConfig(input_filters=112, output_filters=192, kernel_size=5, num_repeat=4, expand_ratio=6, strides=(2, 2), se_ratio=0.25, id_skip=True, fused_conv=False, conv_type='depthwise'), BlockConfig(input_filters=192, output_filters=320, kernel_size=3, num_repeat=1, expand_ratio=6, strides=(1, 1), se_ratio=0.25, id_skip=True, fused_conv=False, conv_type='depthwise')), stem_base_filters=32, top_base_filters=1280, activation='simple_swish', batch_norm='default', bn_momentum=0.99, bn_epsilon=0.001, weight_decay=5e-06, drop_connect_rate=0.2, depth_divisor=8, min_depth=None, use_se=True, input_channels=3, num_classes=1000, model_name='efficientnet', rescale_input=False, data_format='channels_last', dtype='float32')\n",
      "I0907 11:24:01.739867  5756 ssd_efficientnet_bifpn_feature_extractor.py:142] EfficientDet EfficientNet backbone version: efficientnet-b2\n",
      "I0907 11:24:01.739867  5756 ssd_efficientnet_bifpn_feature_extractor.py:144] EfficientDet BiFPN num filters: 112\n",
      "I0907 11:24:01.739867  5756 ssd_efficientnet_bifpn_feature_extractor.py:145] EfficientDet BiFPN num iterations: 5\n",
      "I0907 11:24:01.739867  5756 efficientnet_model.py:147] round_filter input=32 output=32\n",
      "I0907 11:24:01.755493  5756 efficientnet_model.py:147] round_filter input=32 output=32\n",
      "I0907 11:24:01.755493  5756 efficientnet_model.py:147] round_filter input=16 output=16\n",
      "I0907 11:24:01.893599  5756 efficientnet_model.py:147] round_filter input=16 output=16\n",
      "I0907 11:24:01.893599  5756 efficientnet_model.py:147] round_filter input=24 output=24\n",
      "I0907 11:24:02.178725  5756 efficientnet_model.py:147] round_filter input=24 output=24\n",
      "I0907 11:24:02.178725  5756 efficientnet_model.py:147] round_filter input=40 output=48\n",
      "I0907 11:24:02.457414  5756 efficientnet_model.py:147] round_filter input=40 output=48\n",
      "I0907 11:24:02.457414  5756 efficientnet_model.py:147] round_filter input=80 output=88\n",
      "I0907 11:24:02.827319  5756 efficientnet_model.py:147] round_filter input=80 output=88\n",
      "I0907 11:24:02.827319  5756 efficientnet_model.py:147] round_filter input=112 output=120\n",
      "I0907 11:24:03.259646  5756 efficientnet_model.py:147] round_filter input=112 output=120\n",
      "I0907 11:24:03.259646  5756 efficientnet_model.py:147] round_filter input=192 output=208\n",
      "I0907 11:24:03.798834  5756 efficientnet_model.py:147] round_filter input=192 output=208\n",
      "I0907 11:24:03.798834  5756 efficientnet_model.py:147] round_filter input=320 output=352\n",
      "I0907 11:24:04.061664  5756 efficientnet_model.py:147] round_filter input=1280 output=1408\n",
      "I0907 11:24:04.130682  5756 efficientnet_model.py:458] Building model efficientnet with params ModelConfig(width_coefficient=1.1, depth_coefficient=1.2, resolution=260, dropout_rate=0.3, blocks=(BlockConfig(input_filters=32, output_filters=16, kernel_size=3, num_repeat=1, expand_ratio=1, strides=(1, 1), se_ratio=0.25, id_skip=True, fused_conv=False, conv_type='depthwise'), BlockConfig(input_filters=16, output_filters=24, kernel_size=3, num_repeat=2, expand_ratio=6, strides=(2, 2), se_ratio=0.25, id_skip=True, fused_conv=False, conv_type='depthwise'), BlockConfig(input_filters=24, output_filters=40, kernel_size=5, num_repeat=2, expand_ratio=6, strides=(2, 2), se_ratio=0.25, id_skip=True, fused_conv=False, conv_type='depthwise'), BlockConfig(input_filters=40, output_filters=80, kernel_size=3, num_repeat=3, expand_ratio=6, strides=(2, 2), se_ratio=0.25, id_skip=True, fused_conv=False, conv_type='depthwise'), BlockConfig(input_filters=80, output_filters=112, kernel_size=5, num_repeat=3, expand_ratio=6, strides=(1, 1), se_ratio=0.25, id_skip=True, fused_conv=False, conv_type='depthwise'), BlockConfig(input_filters=112, output_filters=192, kernel_size=5, num_repeat=4, expand_ratio=6, strides=(2, 2), se_ratio=0.25, id_skip=True, fused_conv=False, conv_type='depthwise'), BlockConfig(input_filters=192, output_filters=320, kernel_size=3, num_repeat=1, expand_ratio=6, strides=(1, 1), se_ratio=0.25, id_skip=True, fused_conv=False, conv_type='depthwise')), stem_base_filters=32, top_base_filters=1280, activation='simple_swish', batch_norm='default', bn_momentum=0.99, bn_epsilon=0.001, weight_decay=5e-06, drop_connect_rate=0.2, depth_divisor=8, min_depth=None, use_se=True, input_channels=3, num_classes=1000, model_name='efficientnet', rescale_input=False, data_format='channels_last', dtype='float32')\n",
      "I0907 11:24:04.230979  5756 ssd_efficientnet_bifpn_feature_extractor.py:142] EfficientDet EfficientNet backbone version: efficientnet-b3\n",
      "I0907 11:24:04.230979  5756 ssd_efficientnet_bifpn_feature_extractor.py:144] EfficientDet BiFPN num filters: 160\n",
      "I0907 11:24:04.230979  5756 ssd_efficientnet_bifpn_feature_extractor.py:145] EfficientDet BiFPN num iterations: 6\n",
      "I0907 11:24:04.230979  5756 efficientnet_model.py:147] round_filter input=32 output=40\n",
      "I0907 11:24:04.246586  5756 efficientnet_model.py:147] round_filter input=32 output=40\n",
      "I0907 11:24:04.246586  5756 efficientnet_model.py:147] round_filter input=16 output=24\n",
      "I0907 11:24:04.386715  5756 efficientnet_model.py:147] round_filter input=16 output=24\n",
      "I0907 11:24:04.386715  5756 efficientnet_model.py:147] round_filter input=24 output=32\n",
      "I0907 11:24:04.668700  5756 efficientnet_model.py:147] round_filter input=24 output=32\n",
      "I0907 11:24:04.668700  5756 efficientnet_model.py:147] round_filter input=40 output=48\n",
      "I0907 11:24:05.144139  5756 efficientnet_model.py:147] round_filter input=40 output=48\n",
      "I0907 11:24:05.144139  5756 efficientnet_model.py:147] round_filter input=80 output=96\n",
      "I0907 11:24:05.623358  5756 efficientnet_model.py:147] round_filter input=80 output=96\n",
      "I0907 11:24:05.623358  5756 efficientnet_model.py:147] round_filter input=112 output=136\n",
      "I0907 11:24:06.108815  5756 efficientnet_model.py:147] round_filter input=112 output=136\n",
      "I0907 11:24:06.108815  5756 efficientnet_model.py:147] round_filter input=192 output=232\n",
      "I0907 11:24:06.795118  5756 efficientnet_model.py:147] round_filter input=192 output=232\n",
      "I0907 11:24:06.795118  5756 efficientnet_model.py:147] round_filter input=320 output=384\n",
      "I0907 11:24:07.064676  5756 efficientnet_model.py:147] round_filter input=1280 output=1536\n",
      "I0907 11:24:07.133684  5756 efficientnet_model.py:458] Building model efficientnet with params ModelConfig(width_coefficient=1.2, depth_coefficient=1.4, resolution=300, dropout_rate=0.3, blocks=(BlockConfig(input_filters=32, output_filters=16, kernel_size=3, num_repeat=1, expand_ratio=1, strides=(1, 1), se_ratio=0.25, id_skip=True, fused_conv=False, conv_type='depthwise'), BlockConfig(input_filters=16, output_filters=24, kernel_size=3, num_repeat=2, expand_ratio=6, strides=(2, 2), se_ratio=0.25, id_skip=True, fused_conv=False, conv_type='depthwise'), BlockConfig(input_filters=24, output_filters=40, kernel_size=5, num_repeat=2, expand_ratio=6, strides=(2, 2), se_ratio=0.25, id_skip=True, fused_conv=False, conv_type='depthwise'), BlockConfig(input_filters=40, output_filters=80, kernel_size=3, num_repeat=3, expand_ratio=6, strides=(2, 2), se_ratio=0.25, id_skip=True, fused_conv=False, conv_type='depthwise'), BlockConfig(input_filters=80, output_filters=112, kernel_size=5, num_repeat=3, expand_ratio=6, strides=(1, 1), se_ratio=0.25, id_skip=True, fused_conv=False, conv_type='depthwise'), BlockConfig(input_filters=112, output_filters=192, kernel_size=5, num_repeat=4, expand_ratio=6, strides=(2, 2), se_ratio=0.25, id_skip=True, fused_conv=False, conv_type='depthwise'), BlockConfig(input_filters=192, output_filters=320, kernel_size=3, num_repeat=1, expand_ratio=6, strides=(1, 1), se_ratio=0.25, id_skip=True, fused_conv=False, conv_type='depthwise')), stem_base_filters=32, top_base_filters=1280, activation='simple_swish', batch_norm='default', bn_momentum=0.99, bn_epsilon=0.001, weight_decay=5e-06, drop_connect_rate=0.2, depth_divisor=8, min_depth=None, use_se=True, input_channels=3, num_classes=1000, model_name='efficientnet', rescale_input=False, data_format='channels_last', dtype='float32')\n",
      "I0907 11:24:07.233944  5756 ssd_efficientnet_bifpn_feature_extractor.py:142] EfficientDet EfficientNet backbone version: efficientnet-b4\n",
      "I0907 11:24:07.233944  5756 ssd_efficientnet_bifpn_feature_extractor.py:144] EfficientDet BiFPN num filters: 224\n",
      "I0907 11:24:07.233944  5756 ssd_efficientnet_bifpn_feature_extractor.py:145] EfficientDet BiFPN num iterations: 7\n",
      "I0907 11:24:07.233944  5756 efficientnet_model.py:147] round_filter input=32 output=48\n",
      "I0907 11:24:07.265204  5756 efficientnet_model.py:147] round_filter input=32 output=48\n",
      "I0907 11:24:07.265204  5756 efficientnet_model.py:147] round_filter input=16 output=24\n",
      "I0907 11:24:07.434474  5756 efficientnet_model.py:147] round_filter input=16 output=24\n",
      "I0907 11:24:07.434474  5756 efficientnet_model.py:147] round_filter input=24 output=32\n",
      "I0907 11:24:07.797787  5756 efficientnet_model.py:147] round_filter input=24 output=32\n",
      "I0907 11:24:07.797787  5756 efficientnet_model.py:147] round_filter input=40 output=56\n",
      "I0907 11:24:08.229763  5756 efficientnet_model.py:147] round_filter input=40 output=56\n",
      "I0907 11:24:08.229763  5756 efficientnet_model.py:147] round_filter input=80 output=112\n",
      "I0907 11:24:08.800190  5756 efficientnet_model.py:147] round_filter input=80 output=112\n",
      "I0907 11:24:08.800190  5756 efficientnet_model.py:147] round_filter input=112 output=160\n",
      "I0907 11:24:09.401861  5756 efficientnet_model.py:147] round_filter input=112 output=160\n",
      "I0907 11:24:09.401861  5756 efficientnet_model.py:147] round_filter input=192 output=272\n",
      "I0907 11:24:10.558224  5756 efficientnet_model.py:147] round_filter input=192 output=272\n",
      "I0907 11:24:10.558224  5756 efficientnet_model.py:147] round_filter input=320 output=448\n",
      "I0907 11:24:10.843392  5756 efficientnet_model.py:147] round_filter input=1280 output=1792\n",
      "I0907 11:24:10.921522  5756 efficientnet_model.py:458] Building model efficientnet with params ModelConfig(width_coefficient=1.4, depth_coefficient=1.8, resolution=380, dropout_rate=0.4, blocks=(BlockConfig(input_filters=32, output_filters=16, kernel_size=3, num_repeat=1, expand_ratio=1, strides=(1, 1), se_ratio=0.25, id_skip=True, fused_conv=False, conv_type='depthwise'), BlockConfig(input_filters=16, output_filters=24, kernel_size=3, num_repeat=2, expand_ratio=6, strides=(2, 2), se_ratio=0.25, id_skip=True, fused_conv=False, conv_type='depthwise'), BlockConfig(input_filters=24, output_filters=40, kernel_size=5, num_repeat=2, expand_ratio=6, strides=(2, 2), se_ratio=0.25, id_skip=True, fused_conv=False, conv_type='depthwise'), BlockConfig(input_filters=40, output_filters=80, kernel_size=3, num_repeat=3, expand_ratio=6, strides=(2, 2), se_ratio=0.25, id_skip=True, fused_conv=False, conv_type='depthwise'), BlockConfig(input_filters=80, output_filters=112, kernel_size=5, num_repeat=3, expand_ratio=6, strides=(1, 1), se_ratio=0.25, id_skip=True, fused_conv=False, conv_type='depthwise'), BlockConfig(input_filters=112, output_filters=192, kernel_size=5, num_repeat=4, expand_ratio=6, strides=(2, 2), se_ratio=0.25, id_skip=True, fused_conv=False, conv_type='depthwise'), BlockConfig(input_filters=192, output_filters=320, kernel_size=3, num_repeat=1, expand_ratio=6, strides=(1, 1), se_ratio=0.25, id_skip=True, fused_conv=False, conv_type='depthwise')), stem_base_filters=32, top_base_filters=1280, activation='simple_swish', batch_norm='default', bn_momentum=0.99, bn_epsilon=0.001, weight_decay=5e-06, drop_connect_rate=0.2, depth_divisor=8, min_depth=None, use_se=True, input_channels=3, num_classes=1000, model_name='efficientnet', rescale_input=False, data_format='channels_last', dtype='float32')\n",
      "I0907 11:24:11.043948  5756 ssd_efficientnet_bifpn_feature_extractor.py:142] EfficientDet EfficientNet backbone version: efficientnet-b5\n",
      "I0907 11:24:11.043948  5756 ssd_efficientnet_bifpn_feature_extractor.py:144] EfficientDet BiFPN num filters: 288\n",
      "I0907 11:24:11.043948  5756 ssd_efficientnet_bifpn_feature_extractor.py:145] EfficientDet BiFPN num iterations: 7\n",
      "I0907 11:24:11.043948  5756 efficientnet_model.py:147] round_filter input=32 output=48\n",
      "I0907 11:24:11.059596  5756 efficientnet_model.py:147] round_filter input=32 output=48\n",
      "I0907 11:24:11.059596  5756 efficientnet_model.py:147] round_filter input=16 output=24\n",
      "I0907 11:24:11.275794  5756 efficientnet_model.py:147] round_filter input=16 output=24\n",
      "I0907 11:24:11.275794  5756 efficientnet_model.py:147] round_filter input=24 output=40\n",
      "I0907 11:24:11.808480  5756 efficientnet_model.py:147] round_filter input=24 output=40\n",
      "I0907 11:24:11.808480  5756 efficientnet_model.py:147] round_filter input=40 output=64\n",
      "I0907 11:24:12.278218  5756 efficientnet_model.py:147] round_filter input=40 output=64\n",
      "I0907 11:24:12.278218  5756 efficientnet_model.py:147] round_filter input=80 output=128\n",
      "I0907 11:24:12.980132  5756 efficientnet_model.py:147] round_filter input=80 output=128\n",
      "I0907 11:24:12.980132  5756 efficientnet_model.py:147] round_filter input=112 output=176\n",
      "I0907 11:24:13.697788  5756 efficientnet_model.py:147] round_filter input=112 output=176\n",
      "I0907 11:24:13.697788  5756 efficientnet_model.py:147] round_filter input=192 output=304\n",
      "I0907 11:24:14.853707  5756 efficientnet_model.py:147] round_filter input=192 output=304\n",
      "I0907 11:24:14.853707  5756 efficientnet_model.py:147] round_filter input=320 output=512\n",
      "I0907 11:24:15.386277  5756 efficientnet_model.py:147] round_filter input=1280 output=2048\n",
      "I0907 11:24:15.486540  5756 efficientnet_model.py:458] Building model efficientnet with params ModelConfig(width_coefficient=1.6, depth_coefficient=2.2, resolution=456, dropout_rate=0.4, blocks=(BlockConfig(input_filters=32, output_filters=16, kernel_size=3, num_repeat=1, expand_ratio=1, strides=(1, 1), se_ratio=0.25, id_skip=True, fused_conv=False, conv_type='depthwise'), BlockConfig(input_filters=16, output_filters=24, kernel_size=3, num_repeat=2, expand_ratio=6, strides=(2, 2), se_ratio=0.25, id_skip=True, fused_conv=False, conv_type='depthwise'), BlockConfig(input_filters=24, output_filters=40, kernel_size=5, num_repeat=2, expand_ratio=6, strides=(2, 2), se_ratio=0.25, id_skip=True, fused_conv=False, conv_type='depthwise'), BlockConfig(input_filters=40, output_filters=80, kernel_size=3, num_repeat=3, expand_ratio=6, strides=(2, 2), se_ratio=0.25, id_skip=True, fused_conv=False, conv_type='depthwise'), BlockConfig(input_filters=80, output_filters=112, kernel_size=5, num_repeat=3, expand_ratio=6, strides=(1, 1), se_ratio=0.25, id_skip=True, fused_conv=False, conv_type='depthwise'), BlockConfig(input_filters=112, output_filters=192, kernel_size=5, num_repeat=4, expand_ratio=6, strides=(2, 2), se_ratio=0.25, id_skip=True, fused_conv=False, conv_type='depthwise'), BlockConfig(input_filters=192, output_filters=320, kernel_size=3, num_repeat=1, expand_ratio=6, strides=(1, 1), se_ratio=0.25, id_skip=True, fused_conv=False, conv_type='depthwise')), stem_base_filters=32, top_base_filters=1280, activation='simple_swish', batch_norm='default', bn_momentum=0.99, bn_epsilon=0.001, weight_decay=5e-06, drop_connect_rate=0.2, depth_divisor=8, min_depth=None, use_se=True, input_channels=3, num_classes=1000, model_name='efficientnet', rescale_input=False, data_format='channels_last', dtype='float32')\n",
      "I0907 11:24:15.803040  5756 ssd_efficientnet_bifpn_feature_extractor.py:142] EfficientDet EfficientNet backbone version: efficientnet-b6\n",
      "I0907 11:24:15.803040  5756 ssd_efficientnet_bifpn_feature_extractor.py:144] EfficientDet BiFPN num filters: 384\n",
      "I0907 11:24:15.803040  5756 ssd_efficientnet_bifpn_feature_extractor.py:145] EfficientDet BiFPN num iterations: 8\n",
      "I0907 11:24:15.803040  5756 efficientnet_model.py:147] round_filter input=32 output=56\n",
      "I0907 11:24:15.834288  5756 efficientnet_model.py:147] round_filter input=32 output=56\n",
      "I0907 11:24:15.834288  5756 efficientnet_model.py:147] round_filter input=16 output=32\n",
      "I0907 11:24:16.037751  5756 efficientnet_model.py:147] round_filter input=16 output=32\n",
      "I0907 11:24:16.037751  5756 efficientnet_model.py:147] round_filter input=24 output=40\n",
      "I0907 11:24:16.605247  5756 efficientnet_model.py:147] round_filter input=24 output=40\n",
      "I0907 11:24:16.605247  5756 efficientnet_model.py:147] round_filter input=40 output=72\n",
      "I0907 11:24:17.160011  5756 efficientnet_model.py:147] round_filter input=40 output=72\n",
      "I0907 11:24:17.160011  5756 efficientnet_model.py:147] round_filter input=80 output=144\n",
      "I0907 11:24:17.984557  5756 efficientnet_model.py:147] round_filter input=80 output=144\n",
      "I0907 11:24:17.984557  5756 efficientnet_model.py:147] round_filter input=112 output=200\n",
      "I0907 11:24:18.855809  5756 efficientnet_model.py:147] round_filter input=112 output=200\n",
      "I0907 11:24:18.855809  5756 efficientnet_model.py:147] round_filter input=192 output=344\n",
      "I0907 11:24:20.375180  5756 efficientnet_model.py:147] round_filter input=192 output=344\n",
      "I0907 11:24:20.375180  5756 efficientnet_model.py:147] round_filter input=320 output=576\n",
      "I0907 11:24:20.992357  5756 efficientnet_model.py:147] round_filter input=1280 output=2304\n",
      "I0907 11:24:21.092619  5756 efficientnet_model.py:458] Building model efficientnet with params ModelConfig(width_coefficient=1.8, depth_coefficient=2.6, resolution=528, dropout_rate=0.5, blocks=(BlockConfig(input_filters=32, output_filters=16, kernel_size=3, num_repeat=1, expand_ratio=1, strides=(1, 1), se_ratio=0.25, id_skip=True, fused_conv=False, conv_type='depthwise'), BlockConfig(input_filters=16, output_filters=24, kernel_size=3, num_repeat=2, expand_ratio=6, strides=(2, 2), se_ratio=0.25, id_skip=True, fused_conv=False, conv_type='depthwise'), BlockConfig(input_filters=24, output_filters=40, kernel_size=5, num_repeat=2, expand_ratio=6, strides=(2, 2), se_ratio=0.25, id_skip=True, fused_conv=False, conv_type='depthwise'), BlockConfig(input_filters=40, output_filters=80, kernel_size=3, num_repeat=3, expand_ratio=6, strides=(2, 2), se_ratio=0.25, id_skip=True, fused_conv=False, conv_type='depthwise'), BlockConfig(input_filters=80, output_filters=112, kernel_size=5, num_repeat=3, expand_ratio=6, strides=(1, 1), se_ratio=0.25, id_skip=True, fused_conv=False, conv_type='depthwise'), BlockConfig(input_filters=112, output_filters=192, kernel_size=5, num_repeat=4, expand_ratio=6, strides=(2, 2), se_ratio=0.25, id_skip=True, fused_conv=False, conv_type='depthwise'), BlockConfig(input_filters=192, output_filters=320, kernel_size=3, num_repeat=1, expand_ratio=6, strides=(1, 1), se_ratio=0.25, id_skip=True, fused_conv=False, conv_type='depthwise')), stem_base_filters=32, top_base_filters=1280, activation='simple_swish', batch_norm='default', bn_momentum=0.99, bn_epsilon=0.001, weight_decay=5e-06, drop_connect_rate=0.2, depth_divisor=8, min_depth=None, use_se=True, input_channels=3, num_classes=1000, model_name='efficientnet', rescale_input=False, data_format='channels_last', dtype='float32')\n",
      "I0907 11:24:21.224180  5756 ssd_efficientnet_bifpn_feature_extractor.py:142] EfficientDet EfficientNet backbone version: efficientnet-b7\n",
      "I0907 11:24:21.224180  5756 ssd_efficientnet_bifpn_feature_extractor.py:144] EfficientDet BiFPN num filters: 384\n",
      "I0907 11:24:21.224180  5756 ssd_efficientnet_bifpn_feature_extractor.py:145] EfficientDet BiFPN num iterations: 8\n",
      "I0907 11:24:21.239792  5756 efficientnet_model.py:147] round_filter input=32 output=64\n",
      "I0907 11:24:21.255420  5756 efficientnet_model.py:147] round_filter input=32 output=64\n",
      "I0907 11:24:21.255420  5756 efficientnet_model.py:147] round_filter input=16 output=32\n",
      "I0907 11:24:21.540649  5756 efficientnet_model.py:147] round_filter input=16 output=32\n",
      "I0907 11:24:21.540649  5756 efficientnet_model.py:147] round_filter input=24 output=48\n",
      "I0907 11:24:22.496601  5756 efficientnet_model.py:147] round_filter input=24 output=48\n",
      "I0907 11:24:22.496601  5756 efficientnet_model.py:147] round_filter input=40 output=80\n",
      "I0907 11:24:23.145191  5756 efficientnet_model.py:147] round_filter input=40 output=80\n",
      "I0907 11:24:23.145191  5756 efficientnet_model.py:147] round_filter input=80 output=160\n",
      "I0907 11:24:24.148020  5756 efficientnet_model.py:147] round_filter input=80 output=160\n",
      "I0907 11:24:24.148020  5756 efficientnet_model.py:147] round_filter input=112 output=224\n",
      "I0907 11:24:25.251094  5756 efficientnet_model.py:147] round_filter input=112 output=224\n",
      "I0907 11:24:25.251094  5756 efficientnet_model.py:147] round_filter input=192 output=384\n",
      "I0907 11:24:27.339205  5756 efficientnet_model.py:147] round_filter input=192 output=384\n",
      "I0907 11:24:27.339205  5756 efficientnet_model.py:147] round_filter input=320 output=640\n",
      "I0907 11:24:28.395098  5756 efficientnet_model.py:147] round_filter input=1280 output=2560\n"
     ]
    },
    {
     "name": "stderr",
     "output_type": "stream",
     "text": [
      "I0907 11:24:28.530159  5756 efficientnet_model.py:458] Building model efficientnet with params ModelConfig(width_coefficient=2.0, depth_coefficient=3.1, resolution=600, dropout_rate=0.5, blocks=(BlockConfig(input_filters=32, output_filters=16, kernel_size=3, num_repeat=1, expand_ratio=1, strides=(1, 1), se_ratio=0.25, id_skip=True, fused_conv=False, conv_type='depthwise'), BlockConfig(input_filters=16, output_filters=24, kernel_size=3, num_repeat=2, expand_ratio=6, strides=(2, 2), se_ratio=0.25, id_skip=True, fused_conv=False, conv_type='depthwise'), BlockConfig(input_filters=24, output_filters=40, kernel_size=5, num_repeat=2, expand_ratio=6, strides=(2, 2), se_ratio=0.25, id_skip=True, fused_conv=False, conv_type='depthwise'), BlockConfig(input_filters=40, output_filters=80, kernel_size=3, num_repeat=3, expand_ratio=6, strides=(2, 2), se_ratio=0.25, id_skip=True, fused_conv=False, conv_type='depthwise'), BlockConfig(input_filters=80, output_filters=112, kernel_size=5, num_repeat=3, expand_ratio=6, strides=(1, 1), se_ratio=0.25, id_skip=True, fused_conv=False, conv_type='depthwise'), BlockConfig(input_filters=112, output_filters=192, kernel_size=5, num_repeat=4, expand_ratio=6, strides=(2, 2), se_ratio=0.25, id_skip=True, fused_conv=False, conv_type='depthwise'), BlockConfig(input_filters=192, output_filters=320, kernel_size=3, num_repeat=1, expand_ratio=6, strides=(1, 1), se_ratio=0.25, id_skip=True, fused_conv=False, conv_type='depthwise')), stem_base_filters=32, top_base_filters=1280, activation='simple_swish', batch_norm='default', bn_momentum=0.99, bn_epsilon=0.001, weight_decay=5e-06, drop_connect_rate=0.2, depth_divisor=8, min_depth=None, use_se=True, input_channels=3, num_classes=1000, model_name='efficientnet', rescale_input=False, data_format='channels_last', dtype='float32')\n",
      "INFO:tensorflow:time(__main__.ModelBuilderTF2Test.test_create_ssd_models_from_config): 31.72s\n",
      "I0907 11:24:28.717791  5756 test_util.py:2075] time(__main__.ModelBuilderTF2Test.test_create_ssd_models_from_config): 31.72s\n",
      "[       OK ] ModelBuilderTF2Test.test_create_ssd_models_from_config\n",
      "[ RUN      ] ModelBuilderTF2Test.test_invalid_faster_rcnn_batchnorm_update\n",
      "INFO:tensorflow:time(__main__.ModelBuilderTF2Test.test_invalid_faster_rcnn_batchnorm_update): 0.02s\n",
      "I0907 11:24:28.733418  5756 test_util.py:2075] time(__main__.ModelBuilderTF2Test.test_invalid_faster_rcnn_batchnorm_update): 0.02s\n",
      "[       OK ] ModelBuilderTF2Test.test_invalid_faster_rcnn_batchnorm_update\n",
      "[ RUN      ] ModelBuilderTF2Test.test_invalid_first_stage_nms_iou_threshold\n",
      "INFO:tensorflow:time(__main__.ModelBuilderTF2Test.test_invalid_first_stage_nms_iou_threshold): 0.0s\n",
      "I0907 11:24:28.733418  5756 test_util.py:2075] time(__main__.ModelBuilderTF2Test.test_invalid_first_stage_nms_iou_threshold): 0.0s\n",
      "[       OK ] ModelBuilderTF2Test.test_invalid_first_stage_nms_iou_threshold\n",
      "[ RUN      ] ModelBuilderTF2Test.test_invalid_model_config_proto\n",
      "INFO:tensorflow:time(__main__.ModelBuilderTF2Test.test_invalid_model_config_proto): 0.0s\n",
      "I0907 11:24:28.733418  5756 test_util.py:2075] time(__main__.ModelBuilderTF2Test.test_invalid_model_config_proto): 0.0s\n",
      "[       OK ] ModelBuilderTF2Test.test_invalid_model_config_proto\n",
      "[ RUN      ] ModelBuilderTF2Test.test_invalid_second_stage_batch_size\n",
      "INFO:tensorflow:time(__main__.ModelBuilderTF2Test.test_invalid_second_stage_batch_size): 0.0s\n",
      "I0907 11:24:28.733418  5756 test_util.py:2075] time(__main__.ModelBuilderTF2Test.test_invalid_second_stage_batch_size): 0.0s\n",
      "[       OK ] ModelBuilderTF2Test.test_invalid_second_stage_batch_size\n",
      "[ RUN      ] ModelBuilderTF2Test.test_session\n",
      "[  SKIPPED ] ModelBuilderTF2Test.test_session\n",
      "[ RUN      ] ModelBuilderTF2Test.test_unknown_faster_rcnn_feature_extractor\n",
      "INFO:tensorflow:time(__main__.ModelBuilderTF2Test.test_unknown_faster_rcnn_feature_extractor): 0.0s\n",
      "I0907 11:24:28.733418  5756 test_util.py:2075] time(__main__.ModelBuilderTF2Test.test_unknown_faster_rcnn_feature_extractor): 0.0s\n",
      "[       OK ] ModelBuilderTF2Test.test_unknown_faster_rcnn_feature_extractor\n",
      "[ RUN      ] ModelBuilderTF2Test.test_unknown_meta_architecture\n",
      "INFO:tensorflow:time(__main__.ModelBuilderTF2Test.test_unknown_meta_architecture): 0.0s\n",
      "I0907 11:24:28.733418  5756 test_util.py:2075] time(__main__.ModelBuilderTF2Test.test_unknown_meta_architecture): 0.0s\n",
      "[       OK ] ModelBuilderTF2Test.test_unknown_meta_architecture\n",
      "[ RUN      ] ModelBuilderTF2Test.test_unknown_ssd_feature_extractor\n",
      "INFO:tensorflow:time(__main__.ModelBuilderTF2Test.test_unknown_ssd_feature_extractor): 0.0s\n",
      "I0907 11:24:28.733418  5756 test_util.py:2075] time(__main__.ModelBuilderTF2Test.test_unknown_ssd_feature_extractor): 0.0s\n",
      "[       OK ] ModelBuilderTF2Test.test_unknown_ssd_feature_extractor\n",
      "----------------------------------------------------------------------\n",
      "Ran 24 tests in 39.074s\n",
      "\n",
      "OK (skipped=1)\n"
     ]
    }
   ],
   "source": [
    "VERIFICATION_SCRIPT = os.path.join(paths['APIMODEL_PATH'], 'research', 'object_detection', 'builders', 'model_builder_tf2_test.py')\n",
    "# Verify Installation\n",
    "!python {VERIFICATION_SCRIPT}"
   ]
  },
  {
   "cell_type": "code",
   "execution_count": 83,
   "metadata": {},
   "outputs": [
    {
     "name": "stdout",
     "output_type": "stream",
     "text": [
      "Processing c:\\users\\praktikant\\downloads\\tensorflow-2.4.1-cp38-cp38-win_amd64.whl"
     ]
    },
    {
     "name": "stderr",
     "output_type": "stream",
     "text": [
      "ERROR: pip's dependency resolver does not currently take into account all the packages that are installed. This behaviour is the source of the following dependency conflicts."
     ]
    },
    {
     "name": "stdout",
     "output_type": "stream",
     "text": [
      "\n",
      "Requirement already satisfied: flatbuffers~=1.12.0 in c:\\users\\praktikant\\appdata\\local\\programs\\python\\python38\\lib\\site-packages (from tensorflow==2.4.1) (1.12)\n",
      "Requirement already satisfied: absl-py~=0.10 in c:\\users\\praktikant\\appdata\\local\\programs\\python\\python38\\lib\\site-packages (from tensorflow==2.4.1) (0.12.0)\n",
      "Requirement already satisfied: numpy~=1.19.2 in c:\\users\\praktikant\\appdata\\local\\programs\\python\\python38\\lib\\site-packages (from tensorflow==2.4.1) (1.19.5)\n",
      "Requirement already satisfied: keras-preprocessing~=1.1.2 in c:\\users\\praktikant\\appdata\\local\\programs\\python\\python38\\lib\\site-packages (from tensorflow==2.4.1) (1.1.2)\n",
      "Requirement already satisfied: protobuf>=3.9.2 in c:\\users\\praktikant\\appdata\\local\\programs\\python\\python38\\lib\\site-packages (from tensorflow==2.4.1) (3.17.3)\n",
      "Requirement already satisfied: six~=1.15.0 in c:\\users\\praktikant\\appdata\\local\\programs\\python\\python38\\lib\\site-packages (from tensorflow==2.4.1) (1.15.0)\n",
      "Requirement already satisfied: wheel~=0.35 in c:\\users\\praktikant\\appdata\\local\\programs\\python\\python38\\lib\\site-packages (from tensorflow==2.4.1) (0.37.0)\n",
      "Collecting h5py~=2.10.0\n",
      "  Using cached h5py-2.10.0-cp38-cp38-win_amd64.whl (2.5 MB)\n",
      "Requirement already satisfied: typing-extensions~=3.7.4 in c:\\users\\praktikant\\appdata\\local\\programs\\python\\python38\\lib\\site-packages\\typing_extensions-3.7.4.3-py3.8.egg (from tensorflow==2.4.1) (3.7.4.3)\n",
      "Requirement already satisfied: wrapt~=1.12.1 in c:\\users\\praktikant\\appdata\\local\\programs\\python\\python38\\lib\\site-packages (from tensorflow==2.4.1) (1.12.1)\n",
      "Collecting tensorflow-estimator<2.5.0,>=2.4.0\n",
      "  Using cached tensorflow_estimator-2.4.0-py2.py3-none-any.whl (462 kB)\n",
      "Collecting grpcio~=1.32.0\n",
      "  Using cached grpcio-1.32.0-cp38-cp38-win_amd64.whl (2.6 MB)\n",
      "Requirement already satisfied: termcolor~=1.1.0 in c:\\users\\praktikant\\appdata\\local\\programs\\python\\python38\\lib\\site-packages (from tensorflow==2.4.1) (1.1.0)\n",
      "Requirement already satisfied: opt-einsum~=3.3.0 in c:\\users\\praktikant\\appdata\\local\\programs\\python\\python38\\lib\\site-packages (from tensorflow==2.4.1) (3.3.0)\n",
      "Collecting gast==0.3.3\n",
      "  Using cached gast-0.3.3-py2.py3-none-any.whl (9.7 kB)\n",
      "Requirement already satisfied: astunparse~=1.6.3 in c:\\users\\praktikant\\appdata\\local\\programs\\python\\python38\\lib\\site-packages (from tensorflow==2.4.1) (1.6.3)\n",
      "Requirement already satisfied: tensorboard~=2.4 in c:\\users\\praktikant\\appdata\\local\\programs\\python\\python38\\lib\\site-packages (from tensorflow==2.4.1) (2.6.0)\n",
      "Requirement already satisfied: google-pasta~=0.2 in c:\\users\\praktikant\\appdata\\local\\programs\\python\\python38\\lib\\site-packages (from tensorflow==2.4.1) (0.2.0)\n",
      "Requirement already satisfied: requests<3,>=2.21.0 in c:\\users\\praktikant\\appdata\\local\\programs\\python\\python38\\lib\\site-packages\\requests-2.26.0-py3.8.egg (from tensorboard~=2.4->tensorflow==2.4.1) (2.26.0)\n",
      "Requirement already satisfied: werkzeug>=0.11.15 in c:\\users\\praktikant\\appdata\\local\\programs\\python\\python38\\lib\\site-packages (from tensorboard~=2.4->tensorflow==2.4.1) (2.0.1)\n",
      "Requirement already satisfied: markdown>=2.6.8 in c:\\users\\praktikant\\appdata\\local\\programs\\python\\python38\\lib\\site-packages (from tensorboard~=2.4->tensorflow==2.4.1) (3.3.4)\n",
      "Requirement already satisfied: tensorboard-plugin-wit>=1.6.0 in c:\\users\\praktikant\\appdata\\local\\programs\\python\\python38\\lib\\site-packages (from tensorboard~=2.4->tensorflow==2.4.1) (1.8.0)\n",
      "Requirement already satisfied: google-auth-oauthlib<0.5,>=0.4.1 in c:\\users\\praktikant\\appdata\\local\\programs\\python\\python38\\lib\\site-packages (from tensorboard~=2.4->tensorflow==2.4.1) (0.4.6)\n",
      "Requirement already satisfied: setuptools>=41.0.0 in c:\\users\\praktikant\\appdata\\local\\programs\\python\\python38\\lib\\site-packages (from tensorboard~=2.4->tensorflow==2.4.1) (56.0.0)\n",
      "Requirement already satisfied: tensorboard-data-server<0.7.0,>=0.6.0 in c:\\users\\praktikant\\appdata\\local\\programs\\python\\python38\\lib\\site-packages (from tensorboard~=2.4->tensorflow==2.4.1) (0.6.1)\n",
      "Requirement already satisfied: google-auth<2,>=1.6.3 in c:\\users\\praktikant\\appdata\\local\\programs\\python\\python38\\lib\\site-packages (from tensorboard~=2.4->tensorflow==2.4.1) (1.35.0)\n",
      "Requirement already satisfied: cachetools<5.0,>=2.0.0 in c:\\users\\praktikant\\appdata\\local\\programs\\python\\python38\\lib\\site-packages (from google-auth<2,>=1.6.3->tensorboard~=2.4->tensorflow==2.4.1) (4.2.2)\n",
      "Requirement already satisfied: rsa<5,>=3.1.4 in c:\\users\\praktikant\\appdata\\local\\programs\\python\\python38\\lib\\site-packages (from google-auth<2,>=1.6.3->tensorboard~=2.4->tensorflow==2.4.1) (4.7.2)\n",
      "Requirement already satisfied: pyasn1-modules>=0.2.1 in c:\\users\\praktikant\\appdata\\local\\programs\\python\\python38\\lib\\site-packages (from google-auth<2,>=1.6.3->tensorboard~=2.4->tensorflow==2.4.1) (0.2.8)\n",
      "Requirement already satisfied: requests-oauthlib>=0.7.0 in c:\\users\\praktikant\\appdata\\local\\programs\\python\\python38\\lib\\site-packages (from google-auth-oauthlib<0.5,>=0.4.1->tensorboard~=2.4->tensorflow==2.4.1) (1.3.0)\n",
      "Requirement already satisfied: pyasn1<0.5.0,>=0.4.6 in c:\\users\\praktikant\\appdata\\local\\programs\\python\\python38\\lib\\site-packages (from pyasn1-modules>=0.2.1->google-auth<2,>=1.6.3->tensorboard~=2.4->tensorflow==2.4.1) (0.4.8)\n",
      "Requirement already satisfied: certifi>=2017.4.17 in c:\\users\\praktikant\\appdata\\local\\programs\\python\\python38\\lib\\site-packages (from requests<3,>=2.21.0->tensorboard~=2.4->tensorflow==2.4.1) (2021.5.30)\n",
      "Requirement already satisfied: charset-normalizer~=2.0.0 in c:\\users\\praktikant\\appdata\\local\\programs\\python\\python38\\lib\\site-packages (from requests<3,>=2.21.0->tensorboard~=2.4->tensorflow==2.4.1) (2.0.4)\n",
      "Requirement already satisfied: idna<4,>=2.5 in c:\\users\\praktikant\\appdata\\local\\programs\\python\\python38\\lib\\site-packages (from requests<3,>=2.21.0->tensorboard~=2.4->tensorflow==2.4.1) (3.2)\n",
      "Requirement already satisfied: urllib3<1.27,>=1.21.1 in c:\\users\\praktikant\\appdata\\local\\programs\\python\\python38\\lib\\site-packages (from requests<3,>=2.21.0->tensorboard~=2.4->tensorflow==2.4.1) (1.26.6)\n",
      "Requirement already satisfied: oauthlib>=3.0.0 in c:\\users\\praktikant\\appdata\\local\\programs\\python\\python38\\lib\\site-packages (from requests-oauthlib>=0.7.0->google-auth-oauthlib<0.5,>=0.4.1->tensorboard~=2.4->tensorflow==2.4.1) (3.1.1)\n",
      "tensorflow is already installed with the same version as the provided wheel. Use --force-reinstall to force an installation of the wheel.\n",
      "Installing collected packages: grpcio, tensorflow-estimator, h5py, gast\n",
      "  Attempting uninstall: grpcio\n",
      "    Found existing installation: grpcio 1.39.0\n",
      "    Uninstalling grpcio-1.39.0:\n",
      "      Successfully uninstalled grpcio-1.39.0\n",
      "  Attempting uninstall: tensorflow-estimator\n",
      "    Found existing installation: tensorflow-estimator 2.6.0\n",
      "    Uninstalling tensorflow-estimator-2.6.0:\n",
      "      Successfully uninstalled tensorflow-estimator-2.6.0\n",
      "  Attempting uninstall: h5py\n",
      "    Found existing installation: h5py 3.1.0\n",
      "    Uninstalling h5py-3.1.0:\n",
      "      Successfully uninstalled h5py-3.1.0\n",
      "  Attempting uninstall: gast\n",
      "    Found existing installation: gast 0.4.0\n",
      "    Uninstalling gast-0.4.0:\n",
      "      Successfully uninstalled gast-0.4.0\n",
      "Successfully installed gast-0.3.3 grpcio-1.32.0 h5py-2.10.0 tensorflow-estimator-2.4.0\n"
     ]
    },
    {
     "name": "stderr",
     "output_type": "stream",
     "text": [
      "\n",
      "apache-beam 2.32.0 requires crcmod<2.0,>=1.7, which is not installed.\n",
      "apache-beam 2.32.0 requires fastavro<2,>=0.21.4, which is not installed.\n",
      "apache-beam 2.32.0 requires hdfs<3.0.0,>=2.1.0, which is not installed.\n",
      "google-cloud-bigquery 2.26.0 requires grpcio<2.0dev,>=1.38.1, but you have grpcio 1.32.0 which is incompatible.\n",
      "apache-beam 2.32.0 requires avro-python3!=1.9.2,<1.10.0,>=1.8.1, but you have avro-python3 1.10.2 which is incompatible.\n",
      "apache-beam 2.32.0 requires dill<0.3.2,>=0.3.1.1, but you have dill 0.3.4 which is incompatible.\n",
      "tensorflow-text 2.6.0 requires tensorflow<2.7,>=2.6.0, but you have tensorflow 2.4.1 which is incompatible.\n"
     ]
    }
   ],
   "source": [
    "!pip install C:\\Users\\praktikant\\Downloads\\tensorflow-2.4.1-cp38-cp38-win_amd64.whl\n",
    "#!pip install C:\\Users\\praktikant\\Downloads\\tf_models_official-2.4.0-py2.py3-none-any.whl"
   ]
  },
  {
   "cell_type": "code",
   "execution_count": null,
   "metadata": {},
   "outputs": [],
   "source": [
    "!pip uninstall protobuf matplotlib -y\n",
    "!pip install protobuf matplotlib==3.2"
   ]
  },
  {
   "cell_type": "code",
   "execution_count": null,
   "metadata": {},
   "outputs": [],
   "source": [
    "pip install tensorflow-object-detection-api --no-cache-dir\n"
   ]
  },
  {
   "cell_type": "code",
   "execution_count": 31,
   "metadata": {},
   "outputs": [],
   "source": [
    "import object_detection"
   ]
  },
  {
   "cell_type": "code",
   "execution_count": 84,
   "metadata": {
    "scrolled": true
   },
   "outputs": [
    {
     "name": "stdout",
     "output_type": "stream",
     "text": [
      "Package                       Version   Location\n",
      "----------------------------- --------- -----------------------------------------------------------\n",
      "absl-py                       0.12.0\n",
      "apache-beam                   2.32.0\n",
      "argon2-cffi                   21.1.0\n",
      "astunparse                    1.6.3\n",
      "attrs                         21.2.0\n",
      "avro-python3                  1.10.2\n",
      "backcall                      0.2.0\n",
      "bleach                        4.1.0\n",
      "cachetools                    4.2.2\n",
      "certifi                       2021.5.30\n",
      "cffi                          1.14.6\n",
      "charset-normalizer            2.0.4\n",
      "clang                         5.0\n",
      "colorama                      0.4.4\n",
      "contextlib2                   21.6.0\n",
      "cycler                        0.10.0\n",
      "Cython                        0.29.14\n",
      "dataclasses                   0.6\n",
      "debugpy                       1.4.1\n",
      "decorator                     5.0.9\n",
      "defusedxml                    0.7.1\n",
      "dill                          0.3.4\n",
      "dm-tree                       0.1.6\n",
      "docutils                      0.17.1\n",
      "entrypoints                   0.3\n",
      "flatbuffers                   1.12\n",
      "fonttools                     4.26.2\n",
      "future                        0.18.2\n",
      "gast                          0.3.3\n",
      "gensim                        3.8.3\n",
      "gin-config                    0.4.0\n",
      "google-api-core               2.0.1\n",
      "google-api-python-client      2.19.1\n",
      "google-auth                   1.35.0\n",
      "google-auth-httplib2          0.1.0\n",
      "google-auth-oauthlib          0.4.6\n",
      "google-cloud-bigquery         2.26.0\n",
      "google-cloud-core             2.0.0\n",
      "google-crc32c                 1.1.2\n",
      "google-pasta                  0.2.0\n",
      "google-resumable-media        2.0.2\n",
      "googleapis-common-protos      1.53.0\n",
      "grpcio                        1.32.0\n",
      "h5py                          2.10.0\n",
      "httplib2                      0.19.1\n",
      "idna                          3.2\n",
      "importlib-metadata            4.8.1\n",
      "importlib-resources           5.2.2\n",
      "ipykernel                     6.3.1\n",
      "ipython                       7.27.0\n",
      "ipython-genutils              0.2.0\n",
      "ipywidgets                    7.6.4\n",
      "jedi                          0.18.0\n",
      "Jinja2                        3.0.1\n",
      "joblib                        1.0.1\n",
      "jsonschema                    3.2.0\n",
      "jupyter                       1.0.0\n",
      "jupyter-client                7.0.2\n",
      "jupyter-console               6.4.0\n",
      "jupyter-core                  4.7.1\n",
      "jupyterlab-pygments           0.1.2\n",
      "jupyterlab-widgets            1.0.1\n",
      "kaggle                        1.5.12\n",
      "keras                         2.6.0\n",
      "Keras-Preprocessing           1.1.2\n",
      "keyring                       23.1.0\n",
      "kiwisolver                    1.3.2\n",
      "lvis                          0.5.3\n",
      "lxml                          4.6.3\n",
      "Markdown                      3.3.4\n",
      "MarkupSafe                    2.0.1\n",
      "matplotlib                    3.2.0\n",
      "matplotlib-inline             0.1.2\n",
      "mistune                       0.8.4\n",
      "nbclient                      0.5.4\n",
      "nbconvert                     6.1.0\n",
      "nbformat                      5.1.3\n",
      "nest-asyncio                  1.5.1\n",
      "notebook                      6.4.3\n",
      "numpy                         1.19.5\n",
      "oauth2client                  4.1.3\n",
      "oauthlib                      3.1.1\n",
      "object-detection              0.1\n",
      "opencv-python                 4.5.3.56\n",
      "opencv-python-headless        4.5.3.56\n",
      "opt-einsum                    3.3.0\n",
      "orjson                        3.6.3\n",
      "packaging                     21.0\n",
      "pandas                        1.3.2\n",
      "pandocfilters                 1.4.3\n",
      "parso                         0.8.2\n",
      "pickleshare                   0.7.5\n",
      "Pillow                        8.3.2\n",
      "pip                           21.2.4\n",
      "pkginfo                       1.7.1\n",
      "prometheus-client             0.11.0\n",
      "promise                       2.3\n",
      "prompt-toolkit                3.0.20\n",
      "proto-plus                    1.19.0\n",
      "protobuf                      3.17.3\n",
      "psutil                        5.8.0\n",
      "py-cpuinfo                    8.0.0\n",
      "pyarrow                       4.0.1\n",
      "pyasn1                        0.4.8\n",
      "pyasn1-modules                0.2.8\n",
      "pycocotools                   2.0.2\n",
      "pycparser                     2.20\n",
      "pydot                         1.4.2\n",
      "Pygments                      2.10.0\n",
      "pymongo                       3.12.0\n",
      "pyparsing                     2.4.7\n",
      "pyrsistent                    0.18.0\n",
      "python-dateutil               2.8.2\n",
      "python-slugify                5.0.2\n",
      "pytz                          2021.1\n",
      "pywin32                       301\n",
      "pywin32-ctypes                0.2.0\n",
      "pywinpty                      1.1.4\n",
      "PyYAML                        5.4.1\n",
      "pyzmq                         22.2.1\n",
      "qtconsole                     5.1.1\n",
      "QtPy                          1.11.0\n",
      "readme-renderer               29.0\n",
      "requests                      2.26.0\n",
      "requests-oauthlib             1.3.0\n",
      "requests-toolbelt             0.9.1\n",
      "rfc3986                       1.5.0\n",
      "rsa                           4.7.2\n",
      "sacrebleu                     2.0.0\n",
      "scikit-learn                  0.24.2\n",
      "scipy                         1.7.1\n",
      "Send2Trash                    1.8.0\n",
      "sentencepiece                 0.1.96\n",
      "seqeval                       1.2.2\n",
      "setuptools                    56.0.0\n",
      "setuptools-scm                6.3.1\n",
      "six                           1.15.0\n",
      "slim                          0.1       c:\\users\\praktikant\\anprlan\\tensorflow\\models\\research\\slim\n",
      "smart-open                    5.2.1\n",
      "tensorboard                   2.6.0\n",
      "tensorboard-data-server       0.6.1\n",
      "tensorboard-plugin-wit        1.8.0\n",
      "tensorflow                    2.4.1\n",
      "tensorflow-addons             0.14.0\n",
      "tensorflow-datasets           4.4.0\n",
      "tensorflow-estimator          2.4.0\n",
      "tensorflow-hub                0.12.0\n",
      "tensorflow-metadata           1.2.0\n",
      "tensorflow-model-optimization 0.6.0\n",
      "tensorflow-text               2.6.0\n",
      "termcolor                     1.1.0\n",
      "terminado                     0.11.1\n",
      "testpath                      0.5.0\n",
      "text-unidecode                1.3\n",
      "tf-models-official            2.4.0\n",
      "tf-slim                       1.1.0\n",
      "threadpoolctl                 2.2.0\n",
      "tomli                         1.2.1\n",
      "tornado                       6.1\n",
      "tqdm                          4.62.2\n",
      "traitlets                     5.1.0\n",
      "twine                         3.4.2\n",
      "typeguard                     2.12.1\n",
      "typing-extensions             3.7.4.3\n",
      "uritemplate                   3.0.1\n",
      "urllib3                       1.26.6\n",
      "wcwidth                       0.2.5\n",
      "webencodings                  0.5.1\n",
      "Werkzeug                      2.0.1\n",
      "wget                          3.2\n",
      "wheel                         0.37.0\n",
      "widgetsnbextension            3.5.1\n",
      "wrapt                         1.12.1\n",
      "zipp                          3.5.0\n"
     ]
    }
   ],
   "source": [
    "#!pip install easyocr\n",
    "!pip list"
   ]
  },
  {
   "cell_type": "code",
   "execution_count": 53,
   "metadata": {
    "colab": {
     "base_uri": "https://localhost:8080/"
    },
    "id": "csofht2npfDE",
    "outputId": "ff5471b2-bed2-43f2-959c-327a706527b6"
   },
   "outputs": [
    {
     "name": "stdout",
     "output_type": "stream",
     "text": [
      "\r",
      "  0% [                                                                        ]        0 / 20515344\r",
      "  0% [                                                                        ]     8192 / 20515344\r",
      "  0% [                                                                        ]    16384 / 20515344\r",
      "  0% [                                                                        ]    24576 / 20515344\r",
      "  0% [                                                                        ]    32768 / 20515344\r",
      "  0% [                                                                        ]    40960 / 20515344\r",
      "  0% [                                                                        ]    49152 / 20515344\r",
      "  0% [                                                                        ]    57344 / 20515344\r",
      "  0% [                                                                        ]    65536 / 20515344\r",
      "  0% [                                                                        ]    73728 / 20515344\r",
      "  0% [                                                                        ]    81920 / 20515344\r",
      "  0% [                                                                        ]    90112 / 20515344\r",
      "  0% [                                                                        ]    98304 / 20515344\r",
      "  0% [                                                                        ]   106496 / 20515344\r",
      "  0% [                                                                        ]   114688 / 20515344\r",
      "  0% [                                                                        ]   122880 / 20515344\r",
      "  0% [                                                                        ]   131072 / 20515344\r",
      "  0% [                                                                        ]   139264 / 20515344\r",
      "  0% [                                                                        ]   147456 / 20515344\r",
      "  0% [                                                                        ]   155648 / 20515344\r",
      "  0% [                                                                        ]   163840 / 20515344\r",
      "  0% [                                                                        ]   172032 / 20515344\r",
      "  0% [                                                                        ]   180224 / 20515344\r",
      "  0% [                                                                        ]   188416 / 20515344\r",
      "  0% [                                                                        ]   196608 / 20515344\r",
      "  0% [                                                                        ]   204800 / 20515344\r",
      "  1% [                                                                        ]   212992 / 20515344\r",
      "  1% [                                                                        ]   221184 / 20515344\r",
      "  1% [                                                                        ]   229376 / 20515344\r",
      "  1% [                                                                        ]   237568 / 20515344\r",
      "  1% [                                                                        ]   245760 / 20515344\r",
      "  1% [                                                                        ]   253952 / 20515344\r",
      "  1% [                                                                        ]   262144 / 20515344\r",
      "  1% [                                                                        ]   270336 / 20515344\r",
      "  1% [                                                                        ]   278528 / 20515344\r",
      "  1% [.                                                                       ]   286720 / 20515344\r",
      "  1% [.                                                                       ]   294912 / 20515344\r",
      "  1% [.                                                                       ]   303104 / 20515344\r",
      "  1% [.                                                                       ]   311296 / 20515344\r",
      "  1% [.                                                                       ]   319488 / 20515344\r",
      "  1% [.                                                                       ]   327680 / 20515344\r",
      "  1% [.                                                                       ]   335872 / 20515344\r",
      "  1% [.                                                                       ]   344064 / 20515344\r",
      "  1% [.                                                                       ]   352256 / 20515344\r",
      "  1% [.                                                                       ]   360448 / 20515344\r",
      "  1% [.                                                                       ]   368640 / 20515344\r",
      "  1% [.                                                                       ]   376832 / 20515344\r",
      "  1% [.                                                                       ]   385024 / 20515344\r",
      "  1% [.                                                                       ]   393216 / 20515344\r",
      "  1% [.                                                                       ]   401408 / 20515344\r",
      "  1% [.                                                                       ]   409600 / 20515344\r",
      "  2% [.                                                                       ]   417792 / 20515344\r",
      "  2% [.                                                                       ]   425984 / 20515344\r",
      "  2% [.                                                                       ]   434176 / 20515344\r",
      "  2% [.                                                                       ]   442368 / 20515344\r",
      "  2% [.                                                                       ]   450560 / 20515344\r",
      "  2% [.                                                                       ]   458752 / 20515344\r",
      "  2% [.                                                                       ]   466944 / 20515344\r",
      "  2% [.                                                                       ]   475136 / 20515344\r",
      "  2% [.                                                                       ]   483328 / 20515344\r",
      "  2% [.                                                                       ]   491520 / 20515344\r",
      "  2% [.                                                                       ]   499712 / 20515344\r",
      "  2% [.                                                                       ]   507904 / 20515344\r",
      "  2% [.                                                                       ]   516096 / 20515344\r",
      "  2% [.                                                                       ]   524288 / 20515344\r",
      "  2% [.                                                                       ]   532480 / 20515344\r",
      "  2% [.                                                                       ]   540672 / 20515344\r",
      "  2% [.                                                                       ]   548864 / 20515344\r",
      "  2% [.                                                                       ]   557056 / 20515344\r",
      "  2% [.                                                                       ]   565248 / 20515344\r",
      "  2% [..                                                                      ]   573440 / 20515344\r",
      "  2% [..                                                                      ]   581632 / 20515344\r",
      "  2% [..                                                                      ]   589824 / 20515344\r",
      "  2% [..                                                                      ]   598016 / 20515344\r",
      "  2% [..                                                                      ]   606208 / 20515344\r",
      "  2% [..                                                                      ]   614400 / 20515344\r",
      "  3% [..                                                                      ]   622592 / 20515344\r",
      "  3% [..                                                                      ]   630784 / 20515344\r",
      "  3% [..                                                                      ]   638976 / 20515344\r",
      "  3% [..                                                                      ]   647168 / 20515344\r",
      "  3% [..                                                                      ]   655360 / 20515344\r",
      "  3% [..                                                                      ]   663552 / 20515344\r",
      "  3% [..                                                                      ]   671744 / 20515344\r",
      "  3% [..                                                                      ]   679936 / 20515344\r",
      "  3% [..                                                                      ]   688128 / 20515344\r",
      "  3% [..                                                                      ]   696320 / 20515344\r",
      "  3% [..                                                                      ]   704512 / 20515344\r",
      "  3% [..                                                                      ]   712704 / 20515344\r",
      "  3% [..                                                                      ]   720896 / 20515344\r",
      "  3% [..                                                                      ]   729088 / 20515344\r",
      "  3% [..                                                                      ]   737280 / 20515344\r",
      "  3% [..                                                                      ]   745472 / 20515344\r",
      "  3% [..                                                                      ]   753664 / 20515344\r",
      "  3% [..                                                                      ]   761856 / 20515344\r",
      "  3% [..                                                                      ]   770048 / 20515344\r",
      "  3% [..                                                                      ]   778240 / 20515344\r",
      "  3% [..                                                                      ]   786432 / 20515344\r",
      "  3% [..                                                                      ]   794624 / 20515344\r",
      "  3% [..                                                                      ]   802816 / 20515344\r",
      "  3% [..                                                                      ]   811008 / 20515344\r",
      "  3% [..                                                                      ]   819200 / 20515344\r",
      "  4% [..                                                                      ]   827392 / 20515344\r",
      "  4% [..                                                                      ]   835584 / 20515344\r",
      "  4% [..                                                                      ]   843776 / 20515344\r",
      "  4% [..                                                                      ]   851968 / 20515344\r",
      "  4% [...                                                                     ]   860160 / 20515344\r",
      "  4% [...                                                                     ]   868352 / 20515344\r",
      "  4% [...                                                                     ]   876544 / 20515344\r",
      "  4% [...                                                                     ]   884736 / 20515344\r",
      "  4% [...                                                                     ]   892928 / 20515344\r",
      "  4% [...                                                                     ]   901120 / 20515344\r",
      "  4% [...                                                                     ]   909312 / 20515344\r",
      "  4% [...                                                                     ]   917504 / 20515344\r",
      "  4% [...                                                                     ]   925696 / 20515344\r",
      "  4% [...                                                                     ]   933888 / 20515344\r",
      "  4% [...                                                                     ]   942080 / 20515344\r",
      "  4% [...                                                                     ]   950272 / 20515344\r",
      "  4% [...                                                                     ]   958464 / 20515344\r",
      "  4% [...                                                                     ]   966656 / 20515344\r",
      "  4% [...                                                                     ]   974848 / 20515344\r",
      "  4% [...                                                                     ]   983040 / 20515344\r",
      "  4% [...                                                                     ]   991232 / 20515344\r",
      "  4% [...                                                                     ]   999424 / 20515344\r",
      "  4% [...                                                                     ]  1007616 / 20515344\r",
      "  4% [...                                                                     ]  1015808 / 20515344\r",
      "  4% [...                                                                     ]  1024000 / 20515344\r",
      "  5% [...                                                                     ]  1032192 / 20515344\r",
      "  5% [...                                                                     ]  1040384 / 20515344\r",
      "  5% [...                                                                     ]  1048576 / 20515344\r",
      "  5% [...                                                                     ]  1056768 / 20515344\r",
      "  5% [...                                                                     ]  1064960 / 20515344\r",
      "  5% [...                                                                     ]  1073152 / 20515344\r",
      "  5% [...                                                                     ]  1081344 / 20515344\r",
      "  5% [...                                                                     ]  1089536 / 20515344\r",
      "  5% [...                                                                     ]  1097728 / 20515344\r",
      "  5% [...                                                                     ]  1105920 / 20515344\r",
      "  5% [...                                                                     ]  1114112 / 20515344\r",
      "  5% [...                                                                     ]  1122304 / 20515344\r",
      "  5% [...                                                                     ]  1130496 / 20515344\r",
      "  5% [...                                                                     ]  1138688 / 20515344\r",
      "  5% [....                                                                    ]  1146880 / 20515344\r",
      "  5% [....                                                                    ]  1155072 / 20515344\r",
      "  5% [....                                                                    ]  1163264 / 20515344\r",
      "  5% [....                                                                    ]  1171456 / 20515344\r",
      "  5% [....                                                                    ]  1179648 / 20515344\r",
      "  5% [....                                                                    ]  1187840 / 20515344\r",
      "  5% [....                                                                    ]  1196032 / 20515344\r",
      "  5% [....                                                                    ]  1204224 / 20515344\r",
      "  5% [....                                                                    ]  1212416 / 20515344\r",
      "  5% [....                                                                    ]  1220608 / 20515344\r",
      "  5% [....                                                                    ]  1228800 / 20515344\r",
      "  6% [....                                                                    ]  1236992 / 20515344\r",
      "  6% [....                                                                    ]  1245184 / 20515344\r",
      "  6% [....                                                                    ]  1253376 / 20515344\r",
      "  6% [....                                                                    ]  1261568 / 20515344\r",
      "  6% [....                                                                    ]  1269760 / 20515344\r",
      "  6% [....                                                                    ]  1277952 / 20515344\r",
      "  6% [....                                                                    ]  1286144 / 20515344\r",
      "  6% [....                                                                    ]  1294336 / 20515344\r",
      "  6% [....                                                                    ]  1302528 / 20515344\r",
      "  6% [....                                                                    ]  1310720 / 20515344\r",
      "  6% [....                                                                    ]  1318912 / 20515344\r",
      "  6% [....                                                                    ]  1327104 / 20515344\r",
      "  6% [....                                                                    ]  1335296 / 20515344\r",
      "  6% [....                                                                    ]  1343488 / 20515344\r",
      "  6% [....                                                                    ]  1351680 / 20515344\r",
      "  6% [....                                                                    ]  1359872 / 20515344\r",
      "  6% [....                                                                    ]  1368064 / 20515344\r",
      "  6% [....                                                                    ]  1376256 / 20515344\r",
      "  6% [....                                                                    ]  1384448 / 20515344\r",
      "  6% [....                                                                    ]  1392640 / 20515344\r",
      "  6% [....                                                                    ]  1400832 / 20515344\r",
      "  6% [....                                                                    ]  1409024 / 20515344\r",
      "  6% [....                                                                    ]  1417216 / 20515344\r",
      "  6% [.....                                                                   ]  1425408 / 20515344\r",
      "  6% [.....                                                                   ]  1433600 / 20515344\r",
      "  7% [.....                                                                   ]  1441792 / 20515344\r",
      "  7% [.....                                                                   ]  1449984 / 20515344\r",
      "  7% [.....                                                                   ]  1458176 / 20515344\r",
      "  7% [.....                                                                   ]  1466368 / 20515344\r",
      "  7% [.....                                                                   ]  1474560 / 20515344\r",
      "  7% [.....                                                                   ]  1482752 / 20515344\r",
      "  7% [.....                                                                   ]  1490944 / 20515344\r",
      "  7% [.....                                                                   ]  1499136 / 20515344\r",
      "  7% [.....                                                                   ]  1507328 / 20515344"
     ]
    },
    {
     "name": "stdout",
     "output_type": "stream",
     "text": [
      "\r",
      "  7% [.....                                                                   ]  1515520 / 20515344\r",
      "  7% [.....                                                                   ]  1523712 / 20515344\r",
      "  7% [.....                                                                   ]  1531904 / 20515344\r",
      "  7% [.....                                                                   ]  1540096 / 20515344\r",
      "  7% [.....                                                                   ]  1548288 / 20515344\r",
      "  7% [.....                                                                   ]  1556480 / 20515344\r",
      "  7% [.....                                                                   ]  1564672 / 20515344\r",
      "  7% [.....                                                                   ]  1572864 / 20515344\r",
      "  7% [.....                                                                   ]  1581056 / 20515344\r",
      "  7% [.....                                                                   ]  1589248 / 20515344\r",
      "  7% [.....                                                                   ]  1597440 / 20515344\r",
      "  7% [.....                                                                   ]  1605632 / 20515344\r",
      "  7% [.....                                                                   ]  1613824 / 20515344\r",
      "  7% [.....                                                                   ]  1622016 / 20515344\r",
      "  7% [.....                                                                   ]  1630208 / 20515344\r",
      "  7% [.....                                                                   ]  1638400 / 20515344\r",
      "  8% [.....                                                                   ]  1646592 / 20515344\r",
      "  8% [.....                                                                   ]  1654784 / 20515344\r",
      "  8% [.....                                                                   ]  1662976 / 20515344\r",
      "  8% [.....                                                                   ]  1671168 / 20515344\r",
      "  8% [.....                                                                   ]  1679360 / 20515344\r",
      "  8% [.....                                                                   ]  1687552 / 20515344\r",
      "  8% [.....                                                                   ]  1695744 / 20515344\r",
      "  8% [.....                                                                   ]  1703936 / 20515344\r",
      "  8% [......                                                                  ]  1712128 / 20515344\r",
      "  8% [......                                                                  ]  1720320 / 20515344\r",
      "  8% [......                                                                  ]  1728512 / 20515344\r",
      "  8% [......                                                                  ]  1736704 / 20515344\r",
      "  8% [......                                                                  ]  1744896 / 20515344\r",
      "  8% [......                                                                  ]  1753088 / 20515344\r",
      "  8% [......                                                                  ]  1761280 / 20515344\r",
      "  8% [......                                                                  ]  1769472 / 20515344\r",
      "  8% [......                                                                  ]  1777664 / 20515344\r",
      "  8% [......                                                                  ]  1785856 / 20515344\r",
      "  8% [......                                                                  ]  1794048 / 20515344\r",
      "  8% [......                                                                  ]  1802240 / 20515344\r",
      "  8% [......                                                                  ]  1810432 / 20515344\r",
      "  8% [......                                                                  ]  1818624 / 20515344\r",
      "  8% [......                                                                  ]  1826816 / 20515344\r",
      "  8% [......                                                                  ]  1835008 / 20515344\r",
      "  8% [......                                                                  ]  1843200 / 20515344\r",
      "  9% [......                                                                  ]  1851392 / 20515344\r",
      "  9% [......                                                                  ]  1859584 / 20515344\r",
      "  9% [......                                                                  ]  1867776 / 20515344\r",
      "  9% [......                                                                  ]  1875968 / 20515344\r",
      "  9% [......                                                                  ]  1884160 / 20515344\r",
      "  9% [......                                                                  ]  1892352 / 20515344\r",
      "  9% [......                                                                  ]  1900544 / 20515344\r",
      "  9% [......                                                                  ]  1908736 / 20515344\r",
      "  9% [......                                                                  ]  1916928 / 20515344\r",
      "  9% [......                                                                  ]  1925120 / 20515344\r",
      "  9% [......                                                                  ]  1933312 / 20515344\r",
      "  9% [......                                                                  ]  1941504 / 20515344\r",
      "  9% [......                                                                  ]  1949696 / 20515344\r",
      "  9% [......                                                                  ]  1957888 / 20515344\r",
      "  9% [......                                                                  ]  1966080 / 20515344\r",
      "  9% [......                                                                  ]  1974272 / 20515344\r",
      "  9% [......                                                                  ]  1982464 / 20515344\r",
      "  9% [......                                                                  ]  1990656 / 20515344\r",
      "  9% [.......                                                                 ]  1998848 / 20515344\r",
      "  9% [.......                                                                 ]  2007040 / 20515344\r",
      "  9% [.......                                                                 ]  2015232 / 20515344\r",
      "  9% [.......                                                                 ]  2023424 / 20515344\r",
      "  9% [.......                                                                 ]  2031616 / 20515344\r",
      "  9% [.......                                                                 ]  2039808 / 20515344\r",
      "  9% [.......                                                                 ]  2048000 / 20515344\r",
      " 10% [.......                                                                 ]  2056192 / 20515344\r",
      " 10% [.......                                                                 ]  2064384 / 20515344\r",
      " 10% [.......                                                                 ]  2072576 / 20515344\r",
      " 10% [.......                                                                 ]  2080768 / 20515344\r",
      " 10% [.......                                                                 ]  2088960 / 20515344\r",
      " 10% [.......                                                                 ]  2097152 / 20515344\r",
      " 10% [.......                                                                 ]  2105344 / 20515344\r",
      " 10% [.......                                                                 ]  2113536 / 20515344\r",
      " 10% [.......                                                                 ]  2121728 / 20515344\r",
      " 10% [.......                                                                 ]  2129920 / 20515344\r",
      " 10% [.......                                                                 ]  2138112 / 20515344\r",
      " 10% [.......                                                                 ]  2146304 / 20515344\r",
      " 10% [.......                                                                 ]  2154496 / 20515344\r",
      " 10% [.......                                                                 ]  2162688 / 20515344\r",
      " 10% [.......                                                                 ]  2170880 / 20515344\r",
      " 10% [.......                                                                 ]  2179072 / 20515344\r",
      " 10% [.......                                                                 ]  2187264 / 20515344\r",
      " 10% [.......                                                                 ]  2195456 / 20515344\r",
      " 10% [.......                                                                 ]  2203648 / 20515344\r",
      " 10% [.......                                                                 ]  2211840 / 20515344\r",
      " 10% [.......                                                                 ]  2220032 / 20515344\r",
      " 10% [.......                                                                 ]  2228224 / 20515344\r",
      " 10% [.......                                                                 ]  2236416 / 20515344\r",
      " 10% [.......                                                                 ]  2244608 / 20515344\r",
      " 10% [.......                                                                 ]  2252800 / 20515344\r",
      " 11% [.......                                                                 ]  2260992 / 20515344\r",
      " 11% [.......                                                                 ]  2269184 / 20515344\r",
      " 11% [.......                                                                 ]  2277376 / 20515344\r",
      " 11% [........                                                                ]  2285568 / 20515344\r",
      " 11% [........                                                                ]  2293760 / 20515344\r",
      " 11% [........                                                                ]  2301952 / 20515344\r",
      " 11% [........                                                                ]  2310144 / 20515344\r",
      " 11% [........                                                                ]  2318336 / 20515344\r",
      " 11% [........                                                                ]  2326528 / 20515344\r",
      " 11% [........                                                                ]  2334720 / 20515344\r",
      " 11% [........                                                                ]  2342912 / 20515344\r",
      " 11% [........                                                                ]  2351104 / 20515344\r",
      " 11% [........                                                                ]  2359296 / 20515344\r",
      " 11% [........                                                                ]  2367488 / 20515344\r",
      " 11% [........                                                                ]  2375680 / 20515344\r",
      " 11% [........                                                                ]  2383872 / 20515344\r",
      " 11% [........                                                                ]  2392064 / 20515344\r",
      " 11% [........                                                                ]  2400256 / 20515344\r",
      " 11% [........                                                                ]  2408448 / 20515344\r",
      " 11% [........                                                                ]  2416640 / 20515344\r",
      " 11% [........                                                                ]  2424832 / 20515344\r",
      " 11% [........                                                                ]  2433024 / 20515344\r",
      " 11% [........                                                                ]  2441216 / 20515344\r",
      " 11% [........                                                                ]  2449408 / 20515344\r",
      " 11% [........                                                                ]  2457600 / 20515344\r",
      " 12% [........                                                                ]  2465792 / 20515344\r",
      " 12% [........                                                                ]  2473984 / 20515344\r",
      " 12% [........                                                                ]  2482176 / 20515344\r",
      " 12% [........                                                                ]  2490368 / 20515344\r",
      " 12% [........                                                                ]  2498560 / 20515344\r",
      " 12% [........                                                                ]  2506752 / 20515344\r",
      " 12% [........                                                                ]  2514944 / 20515344\r",
      " 12% [........                                                                ]  2523136 / 20515344\r",
      " 12% [........                                                                ]  2531328 / 20515344\r",
      " 12% [........                                                                ]  2539520 / 20515344\r",
      " 12% [........                                                                ]  2547712 / 20515344\r",
      " 12% [........                                                                ]  2555904 / 20515344\r",
      " 12% [........                                                                ]  2564096 / 20515344\r",
      " 12% [.........                                                               ]  2572288 / 20515344\r",
      " 12% [.........                                                               ]  2580480 / 20515344\r",
      " 12% [.........                                                               ]  2588672 / 20515344\r",
      " 12% [.........                                                               ]  2596864 / 20515344\r",
      " 12% [.........                                                               ]  2605056 / 20515344\r",
      " 12% [.........                                                               ]  2613248 / 20515344\r",
      " 12% [.........                                                               ]  2621440 / 20515344\r",
      " 12% [.........                                                               ]  2629632 / 20515344"
     ]
    },
    {
     "name": "stdout",
     "output_type": "stream",
     "text": [
      "\r",
      " 12% [.........                                                               ]  2637824 / 20515344\r",
      " 12% [.........                                                               ]  2646016 / 20515344\r",
      " 12% [.........                                                               ]  2654208 / 20515344\r",
      " 12% [.........                                                               ]  2662400 / 20515344\r",
      " 13% [.........                                                               ]  2670592 / 20515344\r",
      " 13% [.........                                                               ]  2678784 / 20515344\r",
      " 13% [.........                                                               ]  2686976 / 20515344\r",
      " 13% [.........                                                               ]  2695168 / 20515344\r",
      " 13% [.........                                                               ]  2703360 / 20515344\r",
      " 13% [.........                                                               ]  2711552 / 20515344\r",
      " 13% [.........                                                               ]  2719744 / 20515344\r",
      " 13% [.........                                                               ]  2727936 / 20515344\r",
      " 13% [.........                                                               ]  2736128 / 20515344\r",
      " 13% [.........                                                               ]  2744320 / 20515344\r",
      " 13% [.........                                                               ]  2752512 / 20515344\r",
      " 13% [.........                                                               ]  2760704 / 20515344\r",
      " 13% [.........                                                               ]  2768896 / 20515344\r",
      " 13% [.........                                                               ]  2777088 / 20515344\r",
      " 13% [.........                                                               ]  2785280 / 20515344\r",
      " 13% [.........                                                               ]  2793472 / 20515344\r",
      " 13% [.........                                                               ]  2801664 / 20515344\r",
      " 13% [.........                                                               ]  2809856 / 20515344\r",
      " 13% [.........                                                               ]  2818048 / 20515344\r",
      " 13% [.........                                                               ]  2826240 / 20515344\r",
      " 13% [.........                                                               ]  2834432 / 20515344\r",
      " 13% [.........                                                               ]  2842624 / 20515344\r",
      " 13% [..........                                                              ]  2850816 / 20515344\r",
      " 13% [..........                                                              ]  2859008 / 20515344\r",
      " 13% [..........                                                              ]  2867200 / 20515344\r",
      " 14% [..........                                                              ]  2875392 / 20515344\r",
      " 14% [..........                                                              ]  2883584 / 20515344\r",
      " 14% [..........                                                              ]  2891776 / 20515344\r",
      " 14% [..........                                                              ]  2899968 / 20515344\r",
      " 14% [..........                                                              ]  2908160 / 20515344\r",
      " 14% [..........                                                              ]  2916352 / 20515344\r",
      " 14% [..........                                                              ]  2924544 / 20515344\r",
      " 14% [..........                                                              ]  2932736 / 20515344\r",
      " 14% [..........                                                              ]  2940928 / 20515344\r",
      " 14% [..........                                                              ]  2949120 / 20515344\r",
      " 14% [..........                                                              ]  2957312 / 20515344\r",
      " 14% [..........                                                              ]  2965504 / 20515344\r",
      " 14% [..........                                                              ]  2973696 / 20515344\r",
      " 14% [..........                                                              ]  2981888 / 20515344\r",
      " 14% [..........                                                              ]  2990080 / 20515344\r",
      " 14% [..........                                                              ]  2998272 / 20515344\r",
      " 14% [..........                                                              ]  3006464 / 20515344\r",
      " 14% [..........                                                              ]  3014656 / 20515344\r",
      " 14% [..........                                                              ]  3022848 / 20515344\r",
      " 14% [..........                                                              ]  3031040 / 20515344\r",
      " 14% [..........                                                              ]  3039232 / 20515344\r",
      " 14% [..........                                                              ]  3047424 / 20515344\r",
      " 14% [..........                                                              ]  3055616 / 20515344\r",
      " 14% [..........                                                              ]  3063808 / 20515344\r",
      " 14% [..........                                                              ]  3072000 / 20515344\r",
      " 15% [..........                                                              ]  3080192 / 20515344\r",
      " 15% [..........                                                              ]  3088384 / 20515344\r",
      " 15% [..........                                                              ]  3096576 / 20515344\r",
      " 15% [..........                                                              ]  3104768 / 20515344\r",
      " 15% [..........                                                              ]  3112960 / 20515344\r",
      " 15% [..........                                                              ]  3121152 / 20515344\r",
      " 15% [..........                                                              ]  3129344 / 20515344\r",
      " 15% [...........                                                             ]  3137536 / 20515344\r",
      " 15% [...........                                                             ]  3145728 / 20515344\r",
      " 15% [...........                                                             ]  3153920 / 20515344\r",
      " 15% [...........                                                             ]  3162112 / 20515344\r",
      " 15% [...........                                                             ]  3170304 / 20515344\r",
      " 15% [...........                                                             ]  3178496 / 20515344\r",
      " 15% [...........                                                             ]  3186688 / 20515344\r",
      " 15% [...........                                                             ]  3194880 / 20515344\r",
      " 15% [...........                                                             ]  3203072 / 20515344\r",
      " 15% [...........                                                             ]  3211264 / 20515344\r",
      " 15% [...........                                                             ]  3219456 / 20515344\r",
      " 15% [...........                                                             ]  3227648 / 20515344\r",
      " 15% [...........                                                             ]  3235840 / 20515344\r",
      " 15% [...........                                                             ]  3244032 / 20515344\r",
      " 15% [...........                                                             ]  3252224 / 20515344\r",
      " 15% [...........                                                             ]  3260416 / 20515344\r",
      " 15% [...........                                                             ]  3268608 / 20515344\r",
      " 15% [...........                                                             ]  3276800 / 20515344\r",
      " 16% [...........                                                             ]  3284992 / 20515344\r",
      " 16% [...........                                                             ]  3293184 / 20515344\r",
      " 16% [...........                                                             ]  3301376 / 20515344\r",
      " 16% [...........                                                             ]  3309568 / 20515344\r",
      " 16% [...........                                                             ]  3317760 / 20515344\r",
      " 16% [...........                                                             ]  3325952 / 20515344"
     ]
    },
    {
     "name": "stdout",
     "output_type": "stream",
     "text": [
      "\r",
      " 16% [...........                                                             ]  3334144 / 20515344\r",
      " 16% [...........                                                             ]  3342336 / 20515344\r",
      " 16% [...........                                                             ]  3350528 / 20515344\r",
      " 16% [...........                                                             ]  3358720 / 20515344\r",
      " 16% [...........                                                             ]  3366912 / 20515344\r",
      " 16% [...........                                                             ]  3375104 / 20515344\r",
      " 16% [...........                                                             ]  3383296 / 20515344\r",
      " 16% [...........                                                             ]  3391488 / 20515344\r",
      " 16% [...........                                                             ]  3399680 / 20515344\r",
      " 16% [...........                                                             ]  3407872 / 20515344\r",
      " 16% [...........                                                             ]  3416064 / 20515344\r",
      " 16% [............                                                            ]  3424256 / 20515344\r",
      " 16% [............                                                            ]  3432448 / 20515344\r",
      " 16% [............                                                            ]  3440640 / 20515344\r",
      " 16% [............                                                            ]  3448832 / 20515344\r",
      " 16% [............                                                            ]  3457024 / 20515344\r",
      " 16% [............                                                            ]  3465216 / 20515344\r",
      " 16% [............                                                            ]  3473408 / 20515344\r",
      " 16% [............                                                            ]  3481600 / 20515344\r",
      " 17% [............                                                            ]  3489792 / 20515344\r",
      " 17% [............                                                            ]  3497984 / 20515344\r",
      " 17% [............                                                            ]  3506176 / 20515344\r",
      " 17% [............                                                            ]  3514368 / 20515344\r",
      " 17% [............                                                            ]  3522560 / 20515344\r",
      " 17% [............                                                            ]  3530752 / 20515344\r",
      " 17% [............                                                            ]  3538944 / 20515344\r",
      " 17% [............                                                            ]  3547136 / 20515344\r",
      " 17% [............                                                            ]  3555328 / 20515344\r",
      " 17% [............                                                            ]  3563520 / 20515344\r",
      " 17% [............                                                            ]  3571712 / 20515344\r",
      " 17% [............                                                            ]  3579904 / 20515344\r",
      " 17% [............                                                            ]  3588096 / 20515344\r",
      " 17% [............                                                            ]  3596288 / 20515344\r",
      " 17% [............                                                            ]  3604480 / 20515344\r",
      " 17% [............                                                            ]  3612672 / 20515344\r",
      " 17% [............                                                            ]  3620864 / 20515344\r",
      " 17% [............                                                            ]  3629056 / 20515344\r",
      " 17% [............                                                            ]  3637248 / 20515344\r",
      " 17% [............                                                            ]  3645440 / 20515344\r",
      " 17% [............                                                            ]  3653632 / 20515344\r",
      " 17% [............                                                            ]  3661824 / 20515344\r",
      " 17% [............                                                            ]  3670016 / 20515344\r",
      " 17% [............                                                            ]  3678208 / 20515344\r",
      " 17% [............                                                            ]  3686400 / 20515344\r",
      " 18% [............                                                            ]  3694592 / 20515344\r",
      " 18% [............                                                            ]  3702784 / 20515344\r",
      " 18% [.............                                                           ]  3710976 / 20515344\r",
      " 18% [.............                                                           ]  3719168 / 20515344\r",
      " 18% [.............                                                           ]  3727360 / 20515344\r",
      " 18% [.............                                                           ]  3735552 / 20515344\r",
      " 18% [.............                                                           ]  3743744 / 20515344\r",
      " 18% [.............                                                           ]  3751936 / 20515344\r",
      " 18% [.............                                                           ]  3760128 / 20515344\r",
      " 18% [.............                                                           ]  3768320 / 20515344\r",
      " 18% [.............                                                           ]  3776512 / 20515344\r",
      " 18% [.............                                                           ]  3784704 / 20515344\r",
      " 18% [.............                                                           ]  3792896 / 20515344\r",
      " 18% [.............                                                           ]  3801088 / 20515344\r",
      " 18% [.............                                                           ]  3809280 / 20515344\r",
      " 18% [.............                                                           ]  3817472 / 20515344\r",
      " 18% [.............                                                           ]  3825664 / 20515344\r",
      " 18% [.............                                                           ]  3833856 / 20515344\r",
      " 18% [.............                                                           ]  3842048 / 20515344\r",
      " 18% [.............                                                           ]  3850240 / 20515344\r",
      " 18% [.............                                                           ]  3858432 / 20515344\r",
      " 18% [.............                                                           ]  3866624 / 20515344\r",
      " 18% [.............                                                           ]  3874816 / 20515344\r",
      " 18% [.............                                                           ]  3883008 / 20515344\r",
      " 18% [.............                                                           ]  3891200 / 20515344\r",
      " 19% [.............                                                           ]  3899392 / 20515344\r",
      " 19% [.............                                                           ]  3907584 / 20515344\r",
      " 19% [.............                                                           ]  3915776 / 20515344\r",
      " 19% [.............                                                           ]  3923968 / 20515344\r",
      " 19% [.............                                                           ]  3932160 / 20515344\r",
      " 19% [.............                                                           ]  3940352 / 20515344\r",
      " 19% [.............                                                           ]  3948544 / 20515344\r",
      " 19% [.............                                                           ]  3956736 / 20515344\r",
      " 19% [.............                                                           ]  3964928 / 20515344\r",
      " 19% [.............                                                           ]  3973120 / 20515344\r",
      " 19% [.............                                                           ]  3981312 / 20515344\r",
      " 19% [..............                                                          ]  3989504 / 20515344\r",
      " 19% [..............                                                          ]  3997696 / 20515344\r",
      " 19% [..............                                                          ]  4005888 / 20515344\r",
      " 19% [..............                                                          ]  4014080 / 20515344\r",
      " 19% [..............                                                          ]  4022272 / 20515344\r",
      " 19% [..............                                                          ]  4030464 / 20515344\r",
      " 19% [..............                                                          ]  4038656 / 20515344\r",
      " 19% [..............                                                          ]  4046848 / 20515344\r",
      " 19% [..............                                                          ]  4055040 / 20515344\r",
      " 19% [..............                                                          ]  4063232 / 20515344\r",
      " 19% [..............                                                          ]  4071424 / 20515344"
     ]
    },
    {
     "name": "stdout",
     "output_type": "stream",
     "text": [
      "100% [........................................................................] 20515344 / 20515344        1 Datei(en) verschoben.\n"
     ]
    },
    {
     "name": "stderr",
     "output_type": "stream",
     "text": [
      "x ssd_mobilenet_v2_fpnlite_320x320_coco17_tpu-8/\n",
      "x ssd_mobilenet_v2_fpnlite_320x320_coco17_tpu-8/checkpoint/\n",
      "x ssd_mobilenet_v2_fpnlite_320x320_coco17_tpu-8/checkpoint/ckpt-0.data-00000-of-00001\n",
      "x ssd_mobilenet_v2_fpnlite_320x320_coco17_tpu-8/checkpoint/checkpoint\n",
      "x ssd_mobilenet_v2_fpnlite_320x320_coco17_tpu-8/checkpoint/ckpt-0.index\n",
      "x ssd_mobilenet_v2_fpnlite_320x320_coco17_tpu-8/pipeline.config\n",
      "x ssd_mobilenet_v2_fpnlite_320x320_coco17_tpu-8/saved_model/\n",
      "x ssd_mobilenet_v2_fpnlite_320x320_coco17_tpu-8/saved_model/saved_model.pb\n",
      "x ssd_mobilenet_v2_fpnlite_320x320_coco17_tpu-8/saved_model/variables/\n",
      "x ssd_mobilenet_v2_fpnlite_320x320_coco17_tpu-8/saved_model/variables/variables.data-00000-of-00001\n",
      "x ssd_mobilenet_v2_fpnlite_320x320_coco17_tpu-8/saved_model/variables/variables.index\n"
     ]
    }
   ],
   "source": [
    "if os.name =='posix':\n",
    "    !wget {PRETRAINED_MODEL_URL}\n",
    "    !mv {PRETRAINED_MODEL_NAME+'.tar.gz'} {paths['PRETRAINED_MODEL_PATH']}\n",
    "    !cd {paths['PRETRAINED_MODEL_PATH']} && tar -zxvf {PRETRAINED_MODEL_NAME+'.tar.gz'}\n",
    "if os.name == 'nt':\n",
    "    wget.download(PRETRAINED_MODEL_URL)\n",
    "    !move {PRETRAINED_MODEL_NAME+'.tar.gz'} {paths['PRETRAINED_MODEL_PATH']}\n",
    "    !cd {paths['PRETRAINED_MODEL_PATH']} && tar -zxvf {PRETRAINED_MODEL_NAME+'.tar.gz'}"
   ]
  },
  {
   "cell_type": "markdown",
   "metadata": {
    "id": "M5KJTnkfpfDC"
   },
   "source": [
    "# 2. Create Label Map"
   ]
  },
  {
   "cell_type": "code",
   "execution_count": 66,
   "metadata": {
    "id": "p1BVDWo7pfDC"
   },
   "outputs": [],
   "source": [
    "labels = [{'name':'licence', 'id':1}]\n",
    "\n",
    "with open(files['LABELMAP'], 'w') as f:\n",
    "    for label in labels:\n",
    "        f.write('item { \\n')\n",
    "        f.write('\\tname:\\'{}\\'\\n'.format(label['name']))\n",
    "        f.write('\\tid:{}\\n'.format(label['id']))\n",
    "        f.write('}\\n')"
   ]
  },
  {
   "cell_type": "markdown",
   "metadata": {
    "id": "C88zyVELpfDC"
   },
   "source": [
    "# 3. Create TF records"
   ]
  },
  {
   "cell_type": "code",
   "execution_count": 67,
   "metadata": {
    "colab": {
     "base_uri": "https://localhost:8080/"
    },
    "id": "kvf5WccwrFGq",
    "outputId": "49902aeb-0bd7-4298-e1a0-5b4a64eb2064"
   },
   "outputs": [],
   "source": [
    "# OPTIONAL IF RUNNING ON COLAB\n",
    "ARCHIVE_FILES = os.path.join(paths['IMAGE_PATH'], 'archive.tar.gz')\n",
    "if os.path.exists(ARCHIVE_FILES):\n",
    "  !tar -zxvf {ARCHIVE_FILES}"
   ]
  },
  {
   "cell_type": "code",
   "execution_count": 68,
   "metadata": {
    "colab": {
     "base_uri": "https://localhost:8080/"
    },
    "id": "KWpb_BVUpfDD",
    "outputId": "56ce2a3f-3933-4ee6-8a9d-d5ec65f7d73c"
   },
   "outputs": [],
   "source": [
    "if not os.path.exists(files['TF_RECORD_SCRIPT']):\n",
    "    !git clone https://github.com/nicknochnack/GenerateTFRecord {paths['SCRIPTS_PATH']}"
   ]
  },
  {
   "cell_type": "code",
   "execution_count": 69,
   "metadata": {
    "colab": {
     "base_uri": "https://localhost:8080/"
    },
    "id": "UPFToGZqpfDD",
    "outputId": "0ebb456f-aadc-4a1f-96e6-fbfec1923e1c"
   },
   "outputs": [
    {
     "name": "stdout",
     "output_type": "stream",
     "text": [
      "Successfully created the TFRecord file: Tensorflow\\workspace\\annotations\\train.record\n",
      "Successfully created the TFRecord file: Tensorflow\\workspace\\annotations\\test.record\n"
     ]
    }
   ],
   "source": [
    "!python {files['TF_RECORD_SCRIPT']} -x {os.path.join(paths['IMAGE_PATH'], 'train')} -l {files['LABELMAP']} -o {os.path.join(paths['ANNOTATION_PATH'], 'train.record')} \n",
    "!python {files['TF_RECORD_SCRIPT']} -x {os.path.join(paths['IMAGE_PATH'], 'test')} -l {files['LABELMAP']} -o {os.path.join(paths['ANNOTATION_PATH'], 'test.record')} "
   ]
  },
  {
   "cell_type": "markdown",
   "metadata": {
    "id": "qT4QU7pLpfDE"
   },
   "source": [
    "# 4. Copy Model Config to Training Folder"
   ]
  },
  {
   "cell_type": "code",
   "execution_count": 70,
   "metadata": {
    "id": "cOjuTFbwpfDF"
   },
   "outputs": [
    {
     "name": "stdout",
     "output_type": "stream",
     "text": [
      "        1 Datei(en) kopiert.\n"
     ]
    }
   ],
   "source": [
    "if os.name =='posix':\n",
    "    !cp {os.path.join(paths['PRETRAINED_MODEL_PATH'], PRETRAINED_MODEL_NAME, 'pipeline.config')} {os.path.join(paths['CHECKPOINT_PATH'])}\n",
    "if os.name == 'nt':\n",
    "    !copy {os.path.join(paths['PRETRAINED_MODEL_PATH'], PRETRAINED_MODEL_NAME, 'pipeline.config')} {os.path.join(paths['CHECKPOINT_PATH'])}"
   ]
  },
  {
   "cell_type": "markdown",
   "metadata": {
    "id": "Ga8gpNslpfDF"
   },
   "source": [
    "# 5. Update Config For Transfer Learning"
   ]
  },
  {
   "cell_type": "code",
   "execution_count": 71,
   "metadata": {
    "id": "Z9hRrO_ppfDF"
   },
   "outputs": [],
   "source": [
    "import tensorflow as tf\n",
    "from object_detection.utils import config_util\n",
    "from object_detection.protos import pipeline_pb2\n",
    "from google.protobuf import text_format"
   ]
  },
  {
   "cell_type": "code",
   "execution_count": 72,
   "metadata": {
    "id": "c2A0mn4ipfDF"
   },
   "outputs": [],
   "source": [
    "config = config_util.get_configs_from_pipeline_file(files['PIPELINE_CONFIG'])"
   ]
  },
  {
   "cell_type": "code",
   "execution_count": 73,
   "metadata": {
    "colab": {
     "base_uri": "https://localhost:8080/"
    },
    "id": "uQA13-afpfDF",
    "outputId": "907496a4-a39d-4b13-8c2c-e5978ecb1f10"
   },
   "outputs": [
    {
     "data": {
      "text/plain": [
       "{'model': ssd {\n",
       "   num_classes: 90\n",
       "   image_resizer {\n",
       "     fixed_shape_resizer {\n",
       "       height: 320\n",
       "       width: 320\n",
       "     }\n",
       "   }\n",
       "   feature_extractor {\n",
       "     type: \"ssd_mobilenet_v2_fpn_keras\"\n",
       "     depth_multiplier: 1.0\n",
       "     min_depth: 16\n",
       "     conv_hyperparams {\n",
       "       regularizer {\n",
       "         l2_regularizer {\n",
       "           weight: 3.9999998989515007e-05\n",
       "         }\n",
       "       }\n",
       "       initializer {\n",
       "         random_normal_initializer {\n",
       "           mean: 0.0\n",
       "           stddev: 0.009999999776482582\n",
       "         }\n",
       "       }\n",
       "       activation: RELU_6\n",
       "       batch_norm {\n",
       "         decay: 0.996999979019165\n",
       "         scale: true\n",
       "         epsilon: 0.0010000000474974513\n",
       "       }\n",
       "     }\n",
       "     use_depthwise: true\n",
       "     override_base_feature_extractor_hyperparams: true\n",
       "     fpn {\n",
       "       min_level: 3\n",
       "       max_level: 7\n",
       "       additional_layer_depth: 128\n",
       "     }\n",
       "   }\n",
       "   box_coder {\n",
       "     faster_rcnn_box_coder {\n",
       "       y_scale: 10.0\n",
       "       x_scale: 10.0\n",
       "       height_scale: 5.0\n",
       "       width_scale: 5.0\n",
       "     }\n",
       "   }\n",
       "   matcher {\n",
       "     argmax_matcher {\n",
       "       matched_threshold: 0.5\n",
       "       unmatched_threshold: 0.5\n",
       "       ignore_thresholds: false\n",
       "       negatives_lower_than_unmatched: true\n",
       "       force_match_for_each_row: true\n",
       "       use_matmul_gather: true\n",
       "     }\n",
       "   }\n",
       "   similarity_calculator {\n",
       "     iou_similarity {\n",
       "     }\n",
       "   }\n",
       "   box_predictor {\n",
       "     weight_shared_convolutional_box_predictor {\n",
       "       conv_hyperparams {\n",
       "         regularizer {\n",
       "           l2_regularizer {\n",
       "             weight: 3.9999998989515007e-05\n",
       "           }\n",
       "         }\n",
       "         initializer {\n",
       "           random_normal_initializer {\n",
       "             mean: 0.0\n",
       "             stddev: 0.009999999776482582\n",
       "           }\n",
       "         }\n",
       "         activation: RELU_6\n",
       "         batch_norm {\n",
       "           decay: 0.996999979019165\n",
       "           scale: true\n",
       "           epsilon: 0.0010000000474974513\n",
       "         }\n",
       "       }\n",
       "       depth: 128\n",
       "       num_layers_before_predictor: 4\n",
       "       kernel_size: 3\n",
       "       class_prediction_bias_init: -4.599999904632568\n",
       "       share_prediction_tower: true\n",
       "       use_depthwise: true\n",
       "     }\n",
       "   }\n",
       "   anchor_generator {\n",
       "     multiscale_anchor_generator {\n",
       "       min_level: 3\n",
       "       max_level: 7\n",
       "       anchor_scale: 4.0\n",
       "       aspect_ratios: 1.0\n",
       "       aspect_ratios: 2.0\n",
       "       aspect_ratios: 0.5\n",
       "       scales_per_octave: 2\n",
       "     }\n",
       "   }\n",
       "   post_processing {\n",
       "     batch_non_max_suppression {\n",
       "       score_threshold: 9.99999993922529e-09\n",
       "       iou_threshold: 0.6000000238418579\n",
       "       max_detections_per_class: 100\n",
       "       max_total_detections: 100\n",
       "       use_static_shapes: false\n",
       "     }\n",
       "     score_converter: SIGMOID\n",
       "   }\n",
       "   normalize_loss_by_num_matches: true\n",
       "   loss {\n",
       "     localization_loss {\n",
       "       weighted_smooth_l1 {\n",
       "       }\n",
       "     }\n",
       "     classification_loss {\n",
       "       weighted_sigmoid_focal {\n",
       "         gamma: 2.0\n",
       "         alpha: 0.25\n",
       "       }\n",
       "     }\n",
       "     classification_weight: 1.0\n",
       "     localization_weight: 1.0\n",
       "   }\n",
       "   encode_background_as_zeros: true\n",
       "   normalize_loc_loss_by_codesize: true\n",
       "   inplace_batchnorm_update: true\n",
       "   freeze_batchnorm: false\n",
       " },\n",
       " 'train_config': batch_size: 128\n",
       " data_augmentation_options {\n",
       "   random_horizontal_flip {\n",
       "   }\n",
       " }\n",
       " data_augmentation_options {\n",
       "   random_crop_image {\n",
       "     min_object_covered: 0.0\n",
       "     min_aspect_ratio: 0.75\n",
       "     max_aspect_ratio: 3.0\n",
       "     min_area: 0.75\n",
       "     max_area: 1.0\n",
       "     overlap_thresh: 0.0\n",
       "   }\n",
       " }\n",
       " sync_replicas: true\n",
       " optimizer {\n",
       "   momentum_optimizer {\n",
       "     learning_rate {\n",
       "       cosine_decay_learning_rate {\n",
       "         learning_rate_base: 0.07999999821186066\n",
       "         total_steps: 50000\n",
       "         warmup_learning_rate: 0.026666000485420227\n",
       "         warmup_steps: 1000\n",
       "       }\n",
       "     }\n",
       "     momentum_optimizer_value: 0.8999999761581421\n",
       "   }\n",
       "   use_moving_average: false\n",
       " }\n",
       " fine_tune_checkpoint: \"PATH_TO_BE_CONFIGURED\"\n",
       " num_steps: 50000\n",
       " startup_delay_steps: 0.0\n",
       " replicas_to_aggregate: 8\n",
       " max_number_of_boxes: 100\n",
       " unpad_groundtruth_tensors: false\n",
       " fine_tune_checkpoint_type: \"classification\"\n",
       " fine_tune_checkpoint_version: V2,\n",
       " 'train_input_config': label_map_path: \"PATH_TO_BE_CONFIGURED\"\n",
       " tf_record_input_reader {\n",
       "   input_path: \"PATH_TO_BE_CONFIGURED\"\n",
       " },\n",
       " 'eval_config': metrics_set: \"coco_detection_metrics\"\n",
       " use_moving_averages: false,\n",
       " 'eval_input_configs': [label_map_path: \"PATH_TO_BE_CONFIGURED\"\n",
       " shuffle: false\n",
       " num_epochs: 1\n",
       " tf_record_input_reader {\n",
       "   input_path: \"PATH_TO_BE_CONFIGURED\"\n",
       " }\n",
       " ],\n",
       " 'eval_input_config': label_map_path: \"PATH_TO_BE_CONFIGURED\"\n",
       " shuffle: false\n",
       " num_epochs: 1\n",
       " tf_record_input_reader {\n",
       "   input_path: \"PATH_TO_BE_CONFIGURED\"\n",
       " }}"
      ]
     },
     "execution_count": 73,
     "metadata": {},
     "output_type": "execute_result"
    }
   ],
   "source": [
    "config"
   ]
  },
  {
   "cell_type": "code",
   "execution_count": 74,
   "metadata": {
    "id": "9vK5lotDpfDF"
   },
   "outputs": [],
   "source": [
    "pipeline_config = pipeline_pb2.TrainEvalPipelineConfig()\n",
    "with tf.io.gfile.GFile(files['PIPELINE_CONFIG'], \"r\") as f:                                                                                                                                                                                                                     \n",
    "    proto_str = f.read()                                                                                                                                                                                                                                          \n",
    "    text_format.Merge(proto_str, pipeline_config)  "
   ]
  },
  {
   "cell_type": "code",
   "execution_count": 75,
   "metadata": {
    "id": "rP43Ph0JpfDG"
   },
   "outputs": [],
   "source": [
    "pipeline_config.model.ssd.num_classes = len(labels)\n",
    "pipeline_config.train_config.batch_size = 4\n",
    "pipeline_config.train_config.fine_tune_checkpoint = os.path.join(paths['PRETRAINED_MODEL_PATH'], PRETRAINED_MODEL_NAME, 'checkpoint', 'ckpt-0')\n",
    "pipeline_config.train_config.fine_tune_checkpoint_type = \"detection\"\n",
    "pipeline_config.train_input_reader.label_map_path= files['LABELMAP']\n",
    "pipeline_config.train_input_reader.tf_record_input_reader.input_path[:] = [os.path.join(paths['ANNOTATION_PATH'], 'train.record')]\n",
    "pipeline_config.eval_input_reader[0].label_map_path = files['LABELMAP']\n",
    "pipeline_config.eval_input_reader[0].tf_record_input_reader.input_path[:] = [os.path.join(paths['ANNOTATION_PATH'], 'test.record')]"
   ]
  },
  {
   "cell_type": "code",
   "execution_count": 76,
   "metadata": {
    "id": "oJvfgwWqpfDG"
   },
   "outputs": [],
   "source": [
    "config_text = text_format.MessageToString(pipeline_config)                                                                                                                                                                                                        \n",
    "with tf.io.gfile.GFile(files['PIPELINE_CONFIG'], \"wb\") as f:                                                                                                                                                                                                                     \n",
    "    f.write(config_text)   "
   ]
  },
  {
   "cell_type": "markdown",
   "metadata": {
    "id": "Zr3ON7xMpfDG"
   },
   "source": [
    "# 6. Train the model"
   ]
  },
  {
   "cell_type": "code",
   "execution_count": 77,
   "metadata": {
    "id": "B-Y2UQmQpfDG"
   },
   "outputs": [],
   "source": [
    "TRAINING_SCRIPT = os.path.join(paths['APIMODEL_PATH'], 'research', 'object_detection', 'model_main_tf2.py')"
   ]
  },
  {
   "cell_type": "code",
   "execution_count": 78,
   "metadata": {
    "id": "jMP2XDfQpfDH"
   },
   "outputs": [],
   "source": [
    "command = \"python {} --model_dir={} --pipeline_config_path={} --num_train_steps=2000\".format(TRAINING_SCRIPT, paths['CHECKPOINT_PATH'],files['PIPELINE_CONFIG'])"
   ]
  },
  {
   "cell_type": "code",
   "execution_count": 79,
   "metadata": {
    "colab": {
     "base_uri": "https://localhost:8080/"
    },
    "id": "A4OXXi-ApfDH",
    "outputId": "117a0e83-012b-466e-b7a6-ccaa349ac5ab"
   },
   "outputs": [
    {
     "name": "stdout",
     "output_type": "stream",
     "text": [
      "python Tensorflow\\models\\research\\object_detection\\model_main_tf2.py --model_dir=Tensorflow\\workspace\\models\\my_ssd_mobnet --pipeline_config_path=Tensorflow\\workspace\\models\\my_ssd_mobnet\\pipeline.config --num_train_steps=2000\n"
     ]
    }
   ],
   "source": [
    "print(command)"
   ]
  },
  {
   "cell_type": "code",
   "execution_count": null,
   "metadata": {
    "colab": {
     "base_uri": "https://localhost:8080/"
    },
    "id": "i3ZsJR-qpfDH",
    "outputId": "cabec5e1-45e6-4f2f-d9cf-297d9c1d0225"
   },
   "outputs": [],
   "source": [
    "!{command}"
   ]
  },
  {
   "cell_type": "markdown",
   "metadata": {
    "id": "4_YRZu7npfDH"
   },
   "source": [
    "# 7. Evaluate the Model"
   ]
  },
  {
   "cell_type": "code",
   "execution_count": 24,
   "metadata": {
    "id": "80L7-fdPpfDH"
   },
   "outputs": [],
   "source": [
    "command = \"python {} --model_dir={} --pipeline_config_path={} --checkpoint_dir={}\".format(TRAINING_SCRIPT, paths['CHECKPOINT_PATH'],files['PIPELINE_CONFIG'], paths['CHECKPOINT_PATH'])"
   ]
  },
  {
   "cell_type": "code",
   "execution_count": 25,
   "metadata": {
    "colab": {
     "base_uri": "https://localhost:8080/"
    },
    "id": "lYsgEPx9pfDH",
    "outputId": "8632d48b-91d2-45d9-bcb8-c1b172bf6eed"
   },
   "outputs": [
    {
     "name": "stdout",
     "output_type": "stream",
     "text": [
      "python Tensorflow\\models\\research\\object_detection\\model_main_tf2.py --model_dir=Tensorflow\\workspace\\models\\my_ssd_mobnet --pipeline_config_path=Tensorflow\\workspace\\models\\my_ssd_mobnet\\pipeline.config --checkpoint_dir=Tensorflow\\workspace\\models\\my_ssd_mobnet\n"
     ]
    }
   ],
   "source": [
    "print(command)"
   ]
  },
  {
   "cell_type": "code",
   "execution_count": 26,
   "metadata": {
    "id": "lqTV2jGBpfDH"
   },
   "outputs": [
    {
     "name": "stderr",
     "output_type": "stream",
     "text": [
      "2021-09-07 11:17:07.482583: W tensorflow/stream_executor/platform/default/dso_loader.cc:60] Could not load dynamic library 'cudart64_110.dll'; dlerror: cudart64_110.dll not found\n",
      "2021-09-07 11:17:07.483029: I tensorflow/stream_executor/cuda/cudart_stub.cc:29] Ignore above cudart dlerror if you do not have a GPU set up on your machine.\n",
      "Traceback (most recent call last):\n",
      "  File \"Tensorflow\\models\\research\\object_detection\\model_main_tf2.py\", line 32, in <module>\n",
      "    from object_detection import model_lib_v2\n",
      "  File \"C:\\Users\\praktikant\\AppData\\Local\\Programs\\Python\\Python38\\lib\\site-packages\\object_detection-0.1-py3.8.egg\\object_detection\\model_lib_v2.py\", line 29, in <module>\n",
      "    from object_detection import eval_util\n",
      "  File \"C:\\Users\\praktikant\\AppData\\Local\\Programs\\Python\\Python38\\lib\\site-packages\\object_detection-0.1-py3.8.egg\\object_detection\\eval_util.py\", line 35, in <module>\n",
      "    from object_detection.metrics import coco_evaluation\n",
      "  File \"C:\\Users\\praktikant\\AppData\\Local\\Programs\\Python\\Python38\\lib\\site-packages\\object_detection-0.1-py3.8.egg\\object_detection\\metrics\\coco_evaluation.py\", line 25, in <module>\n",
      "    from object_detection.metrics import coco_tools\n",
      "  File \"C:\\Users\\praktikant\\AppData\\Local\\Programs\\Python\\Python38\\lib\\site-packages\\object_detection-0.1-py3.8.egg\\object_detection\\metrics\\coco_tools.py\", line 51, in <module>\n",
      "    from pycocotools import coco\n",
      "  File \"C:\\Users\\praktikant\\AppData\\Local\\Programs\\Python\\Python38\\lib\\site-packages\\pycocotools-2.0.2-py3.8-win-amd64.egg\\pycocotools\\coco.py\", line 55, in <module>\n",
      "    from . import mask as maskUtils\n",
      "  File \"C:\\Users\\praktikant\\AppData\\Local\\Programs\\Python\\Python38\\lib\\site-packages\\pycocotools-2.0.2-py3.8-win-amd64.egg\\pycocotools\\mask.py\", line 3, in <module>\n",
      "    import pycocotools._mask as _mask\n",
      "  File \"pycocotools\\_mask.pyx\", line 1, in init pycocotools._mask\n",
      "ValueError: numpy.ndarray size changed, may indicate binary incompatibility. Expected 88 from C header, got 80 from PyObject\n"
     ]
    }
   ],
   "source": [
    "!{command}"
   ]
  },
  {
   "cell_type": "markdown",
   "metadata": {
    "id": "orvRk02UpfDI"
   },
   "source": [
    "# 8. Load Train Model From Checkpoint"
   ]
  },
  {
   "cell_type": "code",
   "execution_count": 101,
   "metadata": {
    "id": "8TYk4_oIpfDI"
   },
   "outputs": [],
   "source": [
    "import os\n",
    "import tensorflow as tf\n",
    "from object_detection.utils import label_map_util\n",
    "from object_detection.utils import visualization_utils as viz_utils\n",
    "from object_detection.builders import model_builder\n",
    "from object_detection.utils import config_util"
   ]
  },
  {
   "cell_type": "code",
   "execution_count": null,
   "metadata": {},
   "outputs": [],
   "source": [
    "# Prevent GPU complete Consumption of Tensorflow during livefeed\n",
    "gpus = tf.config.list_physical_devices('GPU')\n",
    "if gpus: \n",
    "    try:\n",
    "        tf.config.experimental.set_virtual_device_configuration(gpus[0], tf.config.experimental.virtualDeviceConfiguration(memory_limit=5120))\n",
    "    except RunTimeError as e:\n",
    "        print(e)"
   ]
  },
  {
   "cell_type": "code",
   "execution_count": 102,
   "metadata": {
    "id": "tDnQg-cYpfDI"
   },
   "outputs": [],
   "source": [
    "# Load pipeline config and build a detection model\n",
    "configs = config_util.get_configs_from_pipeline_file(files['PIPELINE_CONFIG'])\n",
    "detection_model = model_builder.build(model_config=configs['model'], is_training=False)\n",
    "\n",
    "# Restore checkpoint\n",
    "ckpt = tf.compat.v2.train.Checkpoint(model=detection_model)\n",
    "ckpt.restore(os.path.join(paths['CHECKPOINT_PATH'], 'ckpt-4')).expect_partial()\n",
    "\n",
    "@tf.function\n",
    "def detect_fn(image):\n",
    "    image, shapes = detection_model.preprocess(image)\n",
    "    prediction_dict = detection_model.predict(image, shapes)\n",
    "    detections = detection_model.postprocess(prediction_dict, shapes)\n",
    "    return detections"
   ]
  },
  {
   "cell_type": "markdown",
   "metadata": {
    "id": "0EmsmbBZpfDI"
   },
   "source": [
    "# 9. Detect from an Image"
   ]
  },
  {
   "cell_type": "code",
   "execution_count": null,
   "metadata": {},
   "outputs": [],
   "source": [
    "!pip install easyocr --no-cache-dir\n",
    "# Pytorch only needed if u want to use a gpu \n",
    "# DL-link: https://pytorch.org/get-started/locally/\n",
    "# !pip install torch==1.8.1+cu111 torchvision==0.9.1+cu111 torchaudio===0.8.1 -f https://download.pytorch.org/whl/torch_stable.html"
   ]
  },
  {
   "cell_type": "code",
   "execution_count": 103,
   "metadata": {
    "id": "Y_MKiuZ4pfDI"
   },
   "outputs": [],
   "source": [
    "import cv2 \n",
    "import numpy as np\n",
    "from matplotlib import pyplot as plt\n",
    "%matplotlib inline"
   ]
  },
  {
   "cell_type": "code",
   "execution_count": 104,
   "metadata": {
    "id": "cBDbIhNapfDI"
   },
   "outputs": [],
   "source": [
    "category_index = label_map_util.create_category_index_from_labelmap(files['LABELMAP'])"
   ]
  },
  {
   "cell_type": "code",
   "execution_count": 149,
   "metadata": {
    "id": "Lx3crOhOzITB"
   },
   "outputs": [],
   "source": [
    "IMAGE_PATH = os.path.join(paths['IMAGE_PATH'], 'test', 'testlkwnl2.jpeg')"
   ]
  },
  {
   "cell_type": "code",
   "execution_count": 155,
   "metadata": {
    "colab": {
     "base_uri": "https://localhost:8080/",
     "height": 269
    },
    "id": "Tpzn1SMry1yK",
    "outputId": "c392a2c5-10fe-4fc4-9998-a1d4c7db2bd3"
   },
   "outputs": [
    {
     "data": {
      "image/png": "[encoded data removed]",
      "text/plain": [
       "<Figure size 432x288 with 1 Axes>"
      ]
     },
     "metadata": {
      "needs_background": "light"
     },
     "output_type": "display_data"
    }
   ],
   "source": [
    "img = cv2.imread(IMAGE_PATH)\n",
    "image_np = np.array(img)\n",
    "\n",
    "input_tensor = tf.convert_to_tensor(np.expand_dims(image_np, 0), dtype=tf.float32)\n",
    "detections = detect_fn(input_tensor)\n",
    "\n",
    "num_detections = int(detections.pop('num_detections'))\n",
    "detections = {key: value[0, :num_detections].numpy()\n",
    "              for key, value in detections.items()}\n",
    "detections['num_detections'] = num_detections\n",
    "\n",
    "# detection_classes should be ints.\n",
    "detections['detection_classes'] = detections['detection_classes'].astype(np.int64)\n",
    "\n",
    "label_id_offset = 1\n",
    "image_np_with_detections = image_np.copy()\n",
    "\n",
    "viz_utils.visualize_boxes_and_labels_on_image_array(\n",
    "            image_np_with_detections,\n",
    "            detections['detection_boxes'],\n",
    "            detections['detection_classes']+label_id_offset,\n",
    "            detections['detection_scores'],\n",
    "            category_index,\n",
    "            use_normalized_coordinates=True,\n",
    "            max_boxes_to_draw=5,\n",
    "            min_score_thresh=.4,\n",
    "            agnostic_mode=False)\n",
    "\n",
    "plt.imshow(cv2.cvtColor(image_np_with_detections, cv2.COLOR_BGR2RGB))\n",
    "plt.show()"
   ]
  },
  {
   "cell_type": "code",
   "execution_count": 160,
   "metadata": {},
   "outputs": [
    {
     "name": "stderr",
     "output_type": "stream",
     "text": [
      "CUDA not available - defaulting to CPU. Note: This module is much faster with a GPU.\n"
     ]
    },
    {
     "name": "stdout",
     "output_type": "stream",
     "text": [
      "91-BKX-:7\n",
      "['91-BKX-:7']\n"
     ]
    },
    {
     "data": {
      "image/png": "[encoded data removed]",
      "text/plain": [
       "<Figure size 432x288 with 1 Axes>"
      ]
     },
     "metadata": {
      "needs_background": "light"
     },
     "output_type": "display_data"
    }
   ],
   "source": [
    "    # Apply OCR to Detection\n",
    "import easyocr\n",
    "\n",
    "detection_threshold = 0.5\n",
    "image = image_np_with_detections\n",
    "scores = list(filter(lambda x: x> detection_threshold, detections['detection_scores']))\n",
    "boxes = detections['detection_boxes'][:len(scores)]\n",
    "classes = detections['detection_classes'][:len(scores)]\n",
    "width = image.shape[1]\n",
    "height = image.shape[0]\n",
    "\n",
    "    # Apply ROI filtering and OCR\n",
    "for idx, box in enumerate(boxes):\n",
    "        roi = box*[height, width, height, width]\n",
    "    region = image[int(roi[0]):int(roi[2]),int(roi[1]):int(roi[3])]\n",
    "    reader = easyocr.Reader(['en'])\n",
    "    ocr_result = reader.readtext(region)\n",
    "    plt.imshow(cv2.cvtColor(region, cv2.COLOR_BGR2RGB))\n",
    " \n",
    "for result in ocr_result:\n",
    "        #print(np.sum(np.subtract(result[0][2],result[0][1])))\n",
    "        print(result[1])\n",
    "\n",
    "#     OCR Filtering\n",
    "region_threshold = 0.05\n",
    "def filter_text(region, ocr_result, region_threshold):\n",
    "        rectangle_size = region.shape[0]*region.shape[1]\n",
    "    \n",
    "        plate = [] \n",
    "        for result in ocr_result:\n",
    "            length = np.sum(np.subtract(result[0][1], result[0][0]))\n",
    "            height = np.sum(np.subtract(result[0][2], result[0][1]))\n",
    "\n",
    "            if length*height / rectangle_size > region_threshold:\n",
    "                plate.append(result[1])\n",
    "        return plate\n",
    "print(filter_text(region, ocr_result, region_threshold))\n",
    "\n",
    "# first output can be multiple different lines of text which were found\n",
    "# second output is the biggest Text found"
   ]
  },
  {
   "cell_type": "code",
   "execution_count": 158,
   "metadata": {},
   "outputs": [
    {
     "data": {
      "text/plain": [
       "['91-BKX-:7']"
      ]
     },
     "execution_count": 158,
     "metadata": {},
     "output_type": "execute_result"
    }
   ],
   "source": [
    "filter_text(region, ocr_result, region_threshold)"
   ]
  },
  {
   "cell_type": "markdown",
   "metadata": {
    "id": "IsNAaYAo0WVL"
   },
   "source": [
    "# 10. Real Time Detections from your Webcam"
   ]
  },
  {
   "cell_type": "code",
   "execution_count": null,
   "metadata": {},
   "outputs": [],
   "source": [
    "!pip uninstall opencv-python-headless -y"
   ]
  },
  {
   "cell_type": "code",
   "execution_count": null,
   "metadata": {
    "id": "o_grs6OGpfDJ"
   },
   "outputs": [],
   "source": [
    "cap = cv2.VideoCapture(0)\n",
    "width = int(cap.get(cv2.CAP_PROP_FRAME_WIDTH))\n",
    "height = int(cap.get(cv2.CAP_PROP_FRAME_HEIGHT))\n",
    "\n",
    "while cap.isOpened(): \n",
    "    ret, frame = cap.read()\n",
    "    image_np = np.array(frame)\n",
    "    \n",
    "    input_tensor = tf.convert_to_tensor(np.expand_dims(image_np, 0), dtype=tf.float32)\n",
    "    detections = detect_fn(input_tensor)\n",
    "    \n",
    "    num_detections = int(detections.pop('num_detections'))\n",
    "    detections = {key: value[0, :num_detections].numpy()\n",
    "                  for key, value in detections.items()}\n",
    "    detections['num_detections'] = num_detections\n",
    "\n",
    "    # detection_classes should be ints.\n",
    "    detections['detection_classes'] = detections['detection_classes'].astype(np.int64)\n",
    "\n",
    "    label_id_offset = 1\n",
    "    image_np_with_detections = image_np.copy()\n",
    "\n",
    "    viz_utils.visualize_boxes_and_labels_on_image_array(\n",
    "                image_np_with_detections,\n",
    "                detections['detection_boxes'],\n",
    "                detections['detection_classes']+label_id_offset,\n",
    "                detections['detection_scores'],\n",
    "                category_index,\n",
    "                use_normalized_coordinates=True,\n",
    "                max_boxes_to_draw=5,\n",
    "                min_score_thresh=.8,\n",
    "                agnostic_mode=False)\n",
    "\n",
    "    cv2.imshow('object detection',  cv2.resize(image_np_with_detections, (800, 600)))\n",
    "    \n",
    "    if cv2.waitKey(10) & 0xFF == ord('q'):\n",
    "        cap.release()\n",
    "        cv2.destroyAllWindows()\n",
    "        break"
   ]
  },
  {
   "cell_type": "markdown",
   "metadata": {
    "id": "rzlM4jt0pfDJ"
   },
   "source": [
    "# 10. Freezing the Graph"
   ]
  },
  {
   "cell_type": "code",
   "execution_count": null,
   "metadata": {
    "id": "n4olHB2npfDJ"
   },
   "outputs": [],
   "source": [
    "FREEZE_SCRIPT = os.path.join(paths['APIMODEL_PATH'], 'research', 'object_detection', 'exporter_main_v2.py ')"
   ]
  },
  {
   "cell_type": "code",
   "execution_count": null,
   "metadata": {
    "id": "0AjO93QDpfDJ"
   },
   "outputs": [],
   "source": [
    "command = \"python {} --input_type=image_tensor --pipeline_config_path={} --trained_checkpoint_dir={} --output_directory={}\".format(FREEZE_SCRIPT ,files['PIPELINE_CONFIG'], paths['CHECKPOINT_PATH'], paths['OUTPUT_PATH'])"
   ]
  },
  {
   "cell_type": "code",
   "execution_count": null,
   "metadata": {
    "colab": {
     "base_uri": "https://localhost:8080/"
    },
    "id": "F6Lsp3tCpfDJ",
    "outputId": "c3828529-bf06-4df5-d7f3-145890ec3edd"
   },
   "outputs": [],
   "source": [
    "print(command)"
   ]
  },
  {
   "cell_type": "code",
   "execution_count": null,
   "metadata": {
    "colab": {
     "base_uri": "https://localhost:8080/"
    },
    "id": "1Sw1ULgHpfDJ",
    "outputId": "6fd441e1-9fc9-4889-d072-3395c21e40b6"
   },
   "outputs": [],
   "source": [
    "!{command}"
   ]
  },
  {
   "cell_type": "markdown",
   "metadata": {
    "id": "wTPmdqaXpfDK"
   },
   "source": [
    "# 11. Conversion to TFJS"
   ]
  },
  {
   "cell_type": "code",
   "execution_count": null,
   "metadata": {
    "colab": {
     "base_uri": "https://localhost:8080/"
    },
    "id": "gZ6UzY_fpfDK",
    "outputId": "0c84722e-1c2b-4002-d857-80827ade828a",
    "scrolled": true
   },
   "outputs": [],
   "source": [
    "!pip install tensorflowjs"
   ]
  },
  {
   "cell_type": "code",
   "execution_count": null,
   "metadata": {
    "id": "0oxbVynHpfDK"
   },
   "outputs": [],
   "source": [
    "command = \"tensorflowjs_converter --input_format=tf_saved_model --output_node_names='detection_boxes,detection_classes,detection_features,detection_multiclass_scores,detection_scores,num_detections,raw_detection_boxes,raw_detection_scores' --output_format=tfjs_graph_model --signature_name=serving_default {} {}\".format(os.path.join(paths['OUTPUT_PATH'], 'saved_model'), paths['TFJS_PATH'])"
   ]
  },
  {
   "cell_type": "code",
   "execution_count": null,
   "metadata": {
    "colab": {
     "base_uri": "https://localhost:8080/"
    },
    "id": "DB2AGNmJpfDK",
    "outputId": "fbc9f747-f511-47e8-df8f-5ea65cef0374"
   },
   "outputs": [],
   "source": [
    "print(command)"
   ]
  },
  {
   "cell_type": "code",
   "execution_count": null,
   "metadata": {
    "colab": {
     "base_uri": "https://localhost:8080/"
    },
    "id": "K7rfT4-hpfDK",
    "outputId": "532707fd-6feb-4bc6-84a3-325b5d16303c"
   },
   "outputs": [],
   "source": [
    "!{command}"
   ]
  },
  {
   "cell_type": "code",
   "execution_count": null,
   "metadata": {
    "id": "o8_hm-itpfDK"
   },
   "outputs": [],
   "source": [
    "# Test Code: https://github.com/nicknochnack/RealTimeSignLanguageDetectionwithTFJS"
   ]
  },
  {
   "cell_type": "markdown",
   "metadata": {
    "id": "VtUw73FHpfDK"
   },
   "source": [
    "# 12. Conversion to TFLite"
   ]
  },
  {
   "cell_type": "code",
   "execution_count": null,
   "metadata": {
    "id": "XviMtewLpfDK"
   },
   "outputs": [],
   "source": [
    "TFLITE_SCRIPT = os.path.join(paths['APIMODEL_PATH'], 'research', 'object_detection', 'export_tflite_graph_tf2.py ')"
   ]
  },
  {
   "cell_type": "code",
   "execution_count": null,
   "metadata": {
    "id": "us86cjC4pfDL"
   },
   "outputs": [],
   "source": [
    "command = \"python {} --pipeline_config_path={} --trained_checkpoint_dir={} --output_directory={}\".format(TFLITE_SCRIPT ,files['PIPELINE_CONFIG'], paths['CHECKPOINT_PATH'], paths['TFLITE_PATH'])"
   ]
  },
  {
   "cell_type": "code",
   "execution_count": null,
   "metadata": {
    "colab": {
     "base_uri": "https://localhost:8080/"
    },
    "id": "n1r5YO3rpfDL",
    "outputId": "5fcdf7a4-eee2-4365-f1ca-1751968379ea"
   },
   "outputs": [],
   "source": [
    "print(command)"
   ]
  },
  {
   "cell_type": "code",
   "execution_count": null,
   "metadata": {
    "colab": {
     "base_uri": "https://localhost:8080/"
    },
    "id": "I-xWpHN8pfDL",
    "outputId": "7f6bacd8-d077-43b5-c131-5b081fba24a4"
   },
   "outputs": [],
   "source": [
    "!{command}"
   ]
  },
  {
   "cell_type": "code",
   "execution_count": null,
   "metadata": {
    "id": "iJfYMbN6pfDL"
   },
   "outputs": [],
   "source": [
    "FROZEN_TFLITE_PATH = os.path.join(paths['TFLITE_PATH'], 'saved_model')\n",
    "TFLITE_MODEL = os.path.join(paths['TFLITE_PATH'], 'saved_model', 'detect.tflite')"
   ]
  },
  {
   "cell_type": "code",
   "execution_count": null,
   "metadata": {},
   "outputs": [],
   "source": [
    "command = \"tflite_convert \\\n",
    "--saved_model_dir={} \\\n",
    "--output_file={} \\\n",
    "--input_shapes=1,300,300,3 \\\n",
    "--input_arrays=normalized_input_image_tensor \\\n",
    "--output_arrays='TFLite_Detection_PostProcess','TFLite_Detection_PostProcess:1','TFLite_Detection_PostProcess:2','TFLite_Detection_PostProcess:3' \\\n",
    "--inference_type=FLOAT \\\n",
    "--allow_custom_ops\".format(FROZEN_TFLITE_PATH, TFLITE_MODEL, )"
   ]
  },
  {
   "cell_type": "code",
   "execution_count": null,
   "metadata": {
    "colab": {
     "base_uri": "https://localhost:8080/"
    },
    "id": "E8GwUeoFpfDL",
    "outputId": "fac43ea4-cc85-471b-a362-e994b06fd583"
   },
   "outputs": [],
   "source": [
    "print(command)"
   ]
  },
  {
   "cell_type": "code",
   "execution_count": null,
   "metadata": {
    "colab": {
     "base_uri": "https://localhost:8080/"
    },
    "id": "Nbd7gqHMpfDL",
    "outputId": "7c8fe6d5-2415-4641-8548-39d425c202f7"
   },
   "outputs": [],
   "source": [
    "!{command}"
   ]
  },
  {
   "cell_type": "markdown",
   "metadata": {
    "id": "5NQqZRdA21Uc"
   },
   "source": [
    "# 13. Zip and Export Models "
   ]
  },
  {
   "cell_type": "code",
   "execution_count": null,
   "metadata": {
    "id": "tTVTGCQp2ZJJ"
   },
   "outputs": [],
   "source": [
    "!tar -czf models.tar.gz {paths['CHECKPOINT_PATH']}"
   ]
  },
  {
   "cell_type": "code",
   "execution_count": null,
   "metadata": {
    "colab": {
     "base_uri": "https://localhost:8080/"
    },
    "id": "whShhB0x3PYJ",
    "outputId": "b773201d-35c9-46a8-b893-4a76bd4d5d97"
   },
   "outputs": [],
   "source": [
    "from google.colab import drive\n",
    "drive.mount('/content/drive')"
   ]
  }
 ],
 "metadata": {
  "accelerator": "GPU",
  "colab": {
   "name": "3. Training and Detection.ipynb",
   "provenance": []
  },
  "kernelspec": {
   "display_name": "anprlantest",
   "language": "python",
   "name": "anprlantest"
  },
  "language_info": {
   "codemirror_mode": {
    "name": "ipython",
    "version": 3
   },
   "file_extension": ".py",
   "mimetype": "text/x-python",
   "name": "python",
   "nbconvert_exporter": "python",
   "pygments_lexer": "ipython3",
   "version": "3.8.10"
  }
 },
 "nbformat": 4,
 "nbformat_minor": 1
}
